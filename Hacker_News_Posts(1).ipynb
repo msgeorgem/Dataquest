{
 "cells": [
  {
   "cell_type": "markdown",
   "metadata": {
    "collapsed": true
   },
   "source": [
    "# Exploring Hacker News Posts"
   ]
  },
  {
   "cell_type": "code",
   "execution_count": 6,
   "metadata": {
    "collapsed": false
   },
   "outputs": [
    {
     "name": "stdout",
     "output_type": "stream",
     "text": [
      "[['12224879', 'Interactive Dynamic Video', 'http://www.interactivedynamicvideo.com/', '386', '52', 'ne0phyte', '8/4/2016 11:52'], ['10975351', 'How to Use Open Source and Shut the Fuck Up at the Same Time', 'http://hueniverse.com/2016/01/26/how-to-use-open-source-and-shut-the-fuck-up-at-the-same-time/', '39', '10', 'josep2', '1/26/2016 19:30'], ['11964716', \"Florida DJs May Face Felony for April Fools' Water Joke\", 'http://www.thewire.com/entertainment/2013/04/florida-djs-april-fools-water-joke/63798/', '2', '1', 'vezycash', '6/23/2016 22:20'], ['11919867', 'Technology ventures: From Idea to Enterprise', 'https://www.amazon.com/Technology-Ventures-Enterprise-Thomas-Byers/dp/0073523429', '3', '1', 'hswarna', '6/17/2016 0:01'], ['10301696', 'Note by Note: The Making of Steinway L1037 (2007)', 'http://www.nytimes.com/2007/11/07/movies/07stein.html?_r=0', '8', '2', 'walterbell', '9/30/2015 4:12']]\n"
     ]
    }
   ],
   "source": [
    "from csv import reader as csv_read \n",
    "with open('hacker_news.csv', 'r') as opened_file:\n",
    "    hacker_news = csv_read(opened_file)\n",
    "    hn = list(hacker_news)\n",
    "    headers = hn [:1]\n",
    "    hn= hn[1:]\n",
    "    #print(headers)\n",
    "    print(hn[:5])"
   ]
  },
  {
   "cell_type": "code",
   "execution_count": 24,
   "metadata": {
    "collapsed": false
   },
   "outputs": [
    {
     "name": "stdout",
     "output_type": "stream",
     "text": [
      "1744\n",
      "1162\n",
      "17194\n",
      "Ask comments on average: 14.038417431192661\n",
      "Show comments on average: 10.31669535283993\n"
     ]
    }
   ],
   "source": [
    "ask_posts = []\n",
    "show_posts = []\n",
    "other_posts = []\n",
    "for row in hn:\n",
    "    title = row[1]\n",
    "    if title.lower().startswith('ask hn'):\n",
    "        ask_posts.append(row)\n",
    "    elif title.lower().startswith('show hn'):\n",
    "        show_posts.append(row)\n",
    "    else:\n",
    "        other_posts.append(row)\n",
    "print(len(ask_posts))\n",
    "print(len(show_posts))\n",
    "print(len(other_posts))\n",
    "\n",
    "total_ask_comments = 0\n",
    "for row in ask_posts:\n",
    "    element = int(row[4])\n",
    "    total_ask_comments += element\n",
    "avg_ask_comments = total_ask_comments/len(ask_posts)\n",
    "print(\"Ask comments on average:\", avg_ask_comments)\n",
    "\n",
    "total_show_comments = 0\n",
    "for row in show_posts:\n",
    "    element = int(row[4])\n",
    "    total_show_comments += element\n",
    "avg_show_comments = total_show_comments/len(show_posts)\n",
    "print(\"Show comments on average:\", avg_show_comments)\n",
    "    "
   ]
  },
  {
   "cell_type": "markdown",
   "metadata": {},
   "source": [
    "# Ask posts receive more comments on average"
   ]
  },
  {
   "cell_type": "code",
   "execution_count": 66,
   "metadata": {
    "collapsed": false
   },
   "outputs": [
    {
     "name": "stdout",
     "output_type": "stream",
     "text": [
      "Average comments per hour\n",
      "[['19', 10.8], ['23', 7.985], ['03', 7.796], ['20', 21.525], ['21', 16.009], ['07', 7.853], ['00', 8.127], ['08', 10.25], ['04', 7.17], ['11', 11.052], ['10', 13.441], ['05', 10.087], ['17', 11.46], ['09', 5.578], ['02', 23.81], ['22', 6.746], ['13', 14.741], ['12', 9.411], ['15', 38.595], ['01', 11.383], ['06', 9.023], ['16', 16.796], ['18', 13.202], ['14', 13.234]]\n"
     ]
    }
   ],
   "source": [
    "import datetime as dt\n",
    "result_list = []\n",
    "for row in ask_posts:\n",
    "    created_at = row[6]\n",
    "    number_posts = row[4]\n",
    "    result_list.append([created_at,number_posts])\n",
    "#print(result_list)\n",
    "counts_by_hour = {}\n",
    "comments_by_hour = {}\n",
    "for row in result_list:\n",
    "    temp_var = str(row[0])\n",
    "    extr_hour_object = dt.datetime.strptime(temp_var, \"%m/%d/%Y %H:%M\")\n",
    "    extr_hour_str = extr_hour_object.strftime(\"%H\")\n",
    "    if extr_hour_str not in counts_by_hour:\n",
    "        counts_by_hour[extr_hour_str] = 1\n",
    "    else:\n",
    "        counts_by_hour[extr_hour_str] += 1\n",
    "        \n",
    "    if extr_hour_str not in comments_by_hour:\n",
    "        comments_by_hour[extr_hour_str] = int(row[1])\n",
    "    else:\n",
    "        comments_by_hour[extr_hour_str] += int(row[1])\n",
    "#print(counts_by_hour)\n",
    "#print(comments_by_hour)\n",
    "\n",
    "avg_by_hour = []\n",
    "for row in comments_by_hour:\n",
    "    hour = row\n",
    "    avg = round((comments_by_hour[hour]/counts_by_hour[hour]),3)\n",
    "    avg_by_hour.append([hour,avg])\n",
    "\n",
    "print(\"Average comments per hour\")\n",
    "print(avg_by_hour)\n",
    "    \n",
    "    "
   ]
  },
  {
   "cell_type": "markdown",
   "metadata": {},
   "source": [
    "# swap columns"
   ]
  },
  {
   "cell_type": "code",
   "execution_count": 67,
   "metadata": {
    "collapsed": false
   },
   "outputs": [
    {
     "name": "stdout",
     "output_type": "stream",
     "text": [
      "[[10.8, '19'], [7.985, '23'], [7.796, '03'], [21.525, '20'], [16.009, '21'], [7.853, '07'], [8.127, '00'], [10.25, '08'], [7.17, '04'], [11.052, '11'], [13.441, '10'], [10.087, '05'], [11.46, '17'], [5.578, '09'], [23.81, '02'], [6.746, '22'], [14.741, '13'], [9.411, '12'], [38.595, '15'], [11.383, '01'], [9.023, '06'], [16.796, '16'], [13.202, '18'], [13.234, '14']]\n"
     ]
    }
   ],
   "source": [
    "swap_avg_by_hour = []\n",
    "for row in avg_by_hour:\n",
    "    col1= row[0]\n",
    "    col2= row[1]\n",
    "    swap_avg_by_hour.append([col2,col1])\n",
    "print(swap_avg_by_hour)"
   ]
  },
  {
   "cell_type": "markdown",
   "metadata": {},
   "source": [
    "# sort columns"
   ]
  },
  {
   "cell_type": "code",
   "execution_count": 91,
   "metadata": {
    "collapsed": false
   },
   "outputs": [
    {
     "name": "stdout",
     "output_type": "stream",
     "text": [
      "Top 5 Hours for Ask Posts Comments\n",
      "15:00: 38.59 average comments per post\n",
      "02:00: 23.81 average comments per post\n",
      "20:00: 21.52 average comments per post\n",
      "16:00: 16.80 average comments per post\n",
      "21:00: 16.01 average comments per post\n"
     ]
    }
   ],
   "source": [
    "sorted_swap_avg = sorted(swap_avg_by_hour, key=None, reverse=True)\n",
    "print(\"Top 5 Hours for Ask Posts Comments\")\n",
    "#print(sorted_swap_avg)\n",
    "for row in sorted_swap_avg[:5]:\n",
    "    col1 = row[0]\n",
    "    col2 = dt.datetime.strptime(row[1],\"%H\").strftime(\"%H:%M\")\n",
    "    print_str = \"{}: {:.2f} average comments per post\".format(col2,col1)\n",
    "    print(print_str)"
   ]
  },
  {
   "cell_type": "code",
   "execution_count": null,
   "metadata": {
    "collapsed": true
   },
   "outputs": [],
   "source": []
  }
 ],
 "metadata": {
  "kernelspec": {
   "display_name": "Python 3",
   "language": "python",
   "name": "python3"
  },
  "language_info": {
   "codemirror_mode": {
    "name": "ipython",
    "version": 3
   },
   "file_extension": ".py",
   "mimetype": "text/x-python",
   "name": "python",
   "nbconvert_exporter": "python",
   "pygments_lexer": "ipython3",
   "version": "3.4.3"
  }
 },
 "nbformat": 4,
 "nbformat_minor": 2
}
