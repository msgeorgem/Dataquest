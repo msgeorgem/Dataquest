{
 "cells": [
  {
   "cell_type": "markdown",
   "metadata": {},
   "source": [
    "# exploring Forutune 500 (f500) advanced\n"
   ]
  },
  {
   "cell_type": "code",
   "execution_count": 3,
   "metadata": {},
   "outputs": [
    {
     "name": "stdout",
     "output_type": "stream",
     "text": [
      "                          rank  revenues  revenue_change\n",
      "Walmart                      1    485873             0.8\n",
      "State Grid                   2    315199            -4.4\n",
      "Sinopec Group                3    267518            -9.1\n",
      "China National Petroleum     4    262573           -12.3\n",
      "Toyota Motor                 5    254694             7.7\n"
     ]
    }
   ],
   "source": [
    "import pandas as pd\n",
    "# read the data set into a pandas dataframe\n",
    "f500 = pd.read_csv(\"f500.csv\", index_col=0)\n",
    "f500.index.name = None\n",
    "\n",
    "# replace 0 values in the \"previous_rank\" column with NaN\n",
    "#f500.loc[f500[\"previous_rank\"] == 0, \"previous_rank\"] = np.nan\n",
    "\n",
    "f500_selection = f500.loc[:,['rank','revenues','revenue_change']].head(5)\n",
    "print(f500_selection)"
   ]
  },
  {
   "cell_type": "code",
   "execution_count": 33,
   "metadata": {},
   "outputs": [
    {
     "name": "stdout",
     "output_type": "stream",
     "text": [
      "             company  rank  revenues  revenue_change  profits\n",
      "0            Walmart     1    485873             0.8  13643.0\n",
      "6  Royal Dutch Shell     7    240033           -11.8   4575.0\n"
     ]
    }
   ],
   "source": [
    "import pandas as pd\n",
    "# read the data set into a pandas dataframe\n",
    "#without index changing!\n",
    "f500 = pd.read_csv(\"f500.csv\")\n",
    "first_three_rows = f500.loc[:3]\n",
    "first_seventh_row_slice = f500.iloc[[0,6],:5]\n",
    "print(first_seventh_row_slice)"
   ]
  },
  {
   "cell_type": "code",
   "execution_count": 37,
   "metadata": {},
   "outputs": [
    {
     "name": "stdout",
     "output_type": "stream",
     "text": [
      "                                   company  rank  previous_rank\n",
      "48                   Legal & General Group    49            NaN\n",
      "90                                  Uniper    91            NaN\n",
      "123                      Dell Technologies   124            NaN\n",
      "138                 Anbang Insurance Group   139            NaN\n",
      "140                        Albertsons Cos.   141            NaN\n",
      "180             Hewlett Packard Enterprise   181            NaN\n",
      "267                           Hengli Group   268            NaN\n",
      "271         Johnson Controls International   272            NaN\n",
      "341                                  Chubb   342            NaN\n",
      "375                 Charter Communications   376            NaN\n",
      "376                              Medtronic   377            NaN\n",
      "392                               Facebook   393            NaN\n",
      "409                            Kraft Heinz   410            NaN\n",
      "414                                  Nokia   415            NaN\n",
      "431                          Standard Life   432            NaN\n",
      "440            Brookfield Asset Management   441            NaN\n",
      "441        Mercantil Servicios Financieros   442            NaN\n",
      "446                            Samsung C&T   447            NaN\n",
      "456                        Heraeus Holding   457            NaN\n",
      "458                Yango Financial Holding   459            NaN\n",
      "461                  Alibaba Group Holding   462            NaN\n",
      "463                            Progressive   464            NaN\n",
      "466                Country Garden Holdings   467            NaN\n",
      "472                                 Altice   473            NaN\n",
      "477                       Tencent Holdings   478            NaN\n",
      "482                                  Aflac   483            NaN\n",
      "484                  Suning Commerce Group   485            NaN\n",
      "487                             Xiamen C&D   488            NaN\n",
      "491                         Dollar General   492            NaN\n",
      "493               Xiamen ITG Holding Group   494            NaN\n",
      "494  Xinjiang Guanghui Industry Investment   495            NaN\n",
      "495         Teva Pharmaceutical Industries   496            NaN\n",
      "499                             AutoNation   500            NaN\n"
     ]
    }
   ],
   "source": [
    "#find if there is null in previous_rank\n",
    "import numpy as np\n",
    "f500.loc[f500[\"previous_rank\"] == 0, \"previous_rank\"] = np.nan\n",
    "null_previous_rank = f500[f500[\"previous_rank\"].isnull()][[\"company\",\"rank\",\"previous_rank\"]]\n",
    "print(null_previous_rank)"
   ]
  },
  {
   "cell_type": "code",
   "execution_count": 38,
   "metadata": {},
   "outputs": [
    {
     "name": "stdout",
     "output_type": "stream",
     "text": [
      "                    company  rank  previous_rank\n",
      "48    Legal & General Group    49            NaN\n",
      "90                   Uniper    91            NaN\n",
      "123       Dell Technologies   124            NaN\n",
      "138  Anbang Insurance Group   139            NaN\n",
      "140         Albertsons Cos.   141            NaN\n"
     ]
    }
   ],
   "source": [
    "#Assign the first five rows of the null_previous_rank dataframe to the variable top5_null_prev_rank\n",
    "top5_null_prev_rank = null_previous_rank.iloc[:5]\n",
    "print(top5_null_prev_rank)\n"
   ]
  },
  {
   "cell_type": "code",
   "execution_count": 40,
   "metadata": {},
   "outputs": [
    {
     "name": "stdout",
     "output_type": "stream",
     "text": [
      "0       0.0\n",
      "1       0.0\n",
      "2       1.0\n",
      "3      -1.0\n",
      "4       3.0\n",
      "       ... \n",
      "490   -20.0\n",
      "492   -89.0\n",
      "496   -70.0\n",
      "497   -61.0\n",
      "498   -32.0\n",
      "Length: 467, dtype: float64\n"
     ]
    }
   ],
   "source": [
    "previously_ranked = f500[f500[\"previous_rank\"].notnull()]\n",
    "rank_change = previously_ranked[\"previous_rank\"] - previously_ranked[\"rank\"]\n",
    "f500[\"rank_change\"] = rank_change\n",
    "print (rank_change)"
   ]
  },
  {
   "cell_type": "code",
   "execution_count": 41,
   "metadata": {},
   "outputs": [
    {
     "name": "stdout",
     "output_type": "stream",
     "text": [
      "                company  rank  revenues  revenue_change  profits   assets  \\\n",
      "32  Japan Post Holdings    33    122990             3.6   -267.4  2631385   \n",
      "44              Chevron    45    107567           -18.0   -497.0   260078   \n",
      "\n",
      "    profit_change               ceo                         industry  \\\n",
      "32         -107.5  Masatsugu Nagato  Insurance: Life, Health (stock)   \n",
      "44         -110.8    John S. Watson               Petroleum Refining   \n",
      "\n",
      "        sector  previous_rank country    hq_location                  website  \\\n",
      "32  Financials           37.0   Japan   Tokyo, Japan  http://www.japanpost.jp   \n",
      "44      Energy           31.0     USA  San Ramon, CA   http://www.chevron.com   \n",
      "\n",
      "    years_on_global_500_list  employees  total_stockholder_equity  rank_change  \n",
      "32                        21     248384                     91532          4.0  \n",
      "44                        23      55200                    145556        -14.0  \n"
     ]
    }
   ],
   "source": [
    "large_revenue = f500[\"revenues\"] > 100000\n",
    "negative_profits = f500[\"profits\"] < 0\n",
    "combined = large_revenue & negative_profits\n",
    "big_rev_neg_profit = f500.loc[combined]\n",
    "print(big_rev_neg_profit)"
   ]
  },
  {
   "cell_type": "code",
   "execution_count": 43,
   "metadata": {},
   "outputs": [
    {
     "name": "stdout",
     "output_type": "stream",
     "text": [
      "                         company  rank  revenues  revenue_change  profits  \\\n",
      "14           Samsung Electronics    15    173957            -2.0  19316.5   \n",
      "26    Hon Hai Precision Industry    27    135129            -4.3   4608.8   \n",
      "70                       Hitachi    71     84558             1.2   2134.3   \n",
      "82   Huawei Investment & Holding    83     78511            24.9   5579.4   \n",
      "104                         Sony   105     70170             3.9    676.4   \n",
      "\n",
      "     assets  profit_change                   ceo  \\\n",
      "14   217104           16.8          Oh-Hyun Kwon   \n",
      "26    80436           -0.4             Terry Gou   \n",
      "70    86742           48.8  Toshiaki Higashihara   \n",
      "82    63837           -5.0          Ren Zhengfei   \n",
      "104  158519          -45.1           Kazuo Hirai   \n",
      "\n",
      "                                       industry      sector  previous_rank  \\\n",
      "14               Electronics, Electrical Equip.  Technology           13.0   \n",
      "26               Electronics, Electrical Equip.  Technology           25.0   \n",
      "70               Electronics, Electrical Equip.  Technology           79.0   \n",
      "82   Network and Other Communications Equipment  Technology          129.0   \n",
      "104              Electronics, Electrical Equip.  Technology          113.0   \n",
      "\n",
      "         country              hq_location                 website  \\\n",
      "14   South Korea       Suwon, South Korea  http://www.samsung.com   \n",
      "26        Taiwan  New Taipei City, Taiwan  http://www.foxconn.com   \n",
      "70         Japan             Tokyo, Japan  http://www.hitachi.com   \n",
      "82         China          Shenzhen, China   http://www.huawei.com   \n",
      "104        Japan             Tokyo, Japan     http://www.sony.net   \n",
      "\n",
      "     years_on_global_500_list  employees  total_stockholder_equity  \\\n",
      "14                         23     325000                    154376   \n",
      "26                         13     726772                     33476   \n",
      "70                         23     303887                     26632   \n",
      "82                          8     180000                     20159   \n",
      "104                        23     128400                     22415   \n",
      "\n",
      "     rank_change  \n",
      "14          -2.0  \n",
      "26          -2.0  \n",
      "70           8.0  \n",
      "82          46.0  \n",
      "104          8.0  \n"
     ]
    }
   ],
   "source": [
    "filter_brazil_venezuela = (f500[\"country\"] == \"Brazil\") | (f500[\"country\"] == \"Venezuela\")\n",
    "brazil_venezuela = f500[filter_brazil_venezuela]\n",
    "\n",
    "filter_tech_outside_usa = (f500[\"sector\"] == \"Technology\") & ~(f500[\"country\"] == \"USA\")\n",
    "tech_outside_usa = f500[filter_tech_outside_usa].head()\n",
    "print(tech_outside_usa)"
   ]
  },
  {
   "cell_type": "code",
   "execution_count": 44,
   "metadata": {},
   "outputs": [
    {
     "name": "stdout",
     "output_type": "stream",
     "text": [
      "company                                     Toyota Motor\n",
      "rank                                                   5\n",
      "revenues                                          254694\n",
      "revenue_change                                       7.7\n",
      "profits                                          16899.3\n",
      "assets                                            437575\n",
      "profit_change                                      -12.3\n",
      "ceo                                          Akio Toyoda\n",
      "industry                        Motor Vehicles and Parts\n",
      "sector                            Motor Vehicles & Parts\n",
      "previous_rank                                          8\n",
      "country                                            Japan\n",
      "hq_location                                Toyota, Japan\n",
      "website                     http://www.toyota-global.com\n",
      "years_on_global_500_list                              23\n",
      "employees                                         364445\n",
      "total_stockholder_equity                          157210\n",
      "rank_change                                            3\n",
      "Name: 4, dtype: object\n"
     ]
    }
   ],
   "source": [
    "only_japan = f500[f500[\"country\"] == \"Japan\"]\n",
    "only_japan = only_japan.sort_values(\"employees\", ascending = False)\n",
    "first_row = only_japan.iloc[0]\n",
    "top_japanese_employer = first_row[\"company\"]\n",
    "print(first_row)"
   ]
  },
  {
   "cell_type": "code",
   "execution_count": 45,
   "metadata": {},
   "outputs": [
    {
     "name": "stdout",
     "output_type": "stream",
     "text": [
      "{'USA': 'Walmart', 'China': 'China National Petroleum', 'Japan': 'Toyota Motor', 'Germany': 'Volkswagen', 'Netherlands': 'EXOR Group', 'Britain': 'Compass Group', 'South Korea': 'Samsung Electronics', 'Switzerland': 'Nestle', 'France': 'Sodexo', 'Taiwan': 'Hon Hai Precision Industry', 'Singapore': 'Flex', 'Italy': 'Poste Italiane', 'Russia': 'Gazprom', 'Spain': 'Banco Santander', 'Brazil': 'JBS', 'Mexico': 'America Movil', 'Luxembourg': 'ArcelorMittal', 'India': 'State Bank of India', 'Malaysia': 'Petronas', 'Thailand': 'PTT', 'Australia': 'Wesfarmers', 'Belgium': 'Anheuser-Busch InBev', 'Norway': 'Statoil', 'Canada': 'George Weston', 'Ireland': 'Accenture', 'Indonesia': 'Pertamina', 'Denmark': 'Maersk Group', 'Saudi Arabia': 'SABIC', 'Sweden': 'H & M Hennes & Mauritz', 'Finland': 'Nokia', 'Venezuela': 'Mercantil Servicios Financieros', 'Turkey': 'Koc Holding', 'U.A.E': 'Emirates Group', 'Israel': 'Teva Pharmaceutical Industries'}\n"
     ]
    }
   ],
   "source": [
    "top_employer_by_country = {}\n",
    "countries = f500[\"country\"].unique()\n",
    "\n",
    "for item in countries:\n",
    "    # Use boolean comparison to select only rows that\n",
    "    # correspond to a specific country\n",
    "    selected_rows = f500[f500[\"country\"] == item]\n",
    "    selected_rows = selected_rows.sort_values(\"employees\",ascending = False)\n",
    "    first_row = selected_rows.iloc[0]\n",
    "    company = first_row[\"company\"]\n",
    "    country = first_row[\"country\"]\n",
    "    top_employer_by_country[country] = company\n",
    "print(top_employer_by_country)"
   ]
  },
  {
   "cell_type": "code",
   "execution_count": 46,
   "metadata": {},
   "outputs": [
    {
     "name": "stdout",
     "output_type": "stream",
     "text": [
      "{'Retailing': 'H & M Hennes & Mauritz', 'Energy': 'National Grid', 'Motor Vehicles & Parts': 'Subaru', 'Financials': 'Berkshire Hathaway', 'Technology': 'Accenture', 'Wholesalers': 'McKesson', 'Health Care': 'Gilead Sciences', 'Telecommunications': 'KDDI', 'Engineering & Construction': 'Pacific Construction Group', 'Industrials': '3M', 'Food & Drug Stores': 'Publix Super Markets', 'Aerospace & Defense': 'Lockheed Martin', 'Food, Beverages & Tobacco': 'Philip Morris International', 'Household Products': 'Unilever', 'Transportation': 'Delta Air Lines', 'Materials': 'CRH', 'Chemicals': 'LyondellBasell Industries', 'Media': 'Disney', 'Apparel': 'Nike', 'Hotels, Restaurants & Leisure': 'McDonald’s', 'Business Services': 'Adecco Group'}\n"
     ]
    }
   ],
   "source": [
    "f500[\"roa\"] = f500[\"profits\"] / f500[\"assets\"]\n",
    "unique_sectors = f500[\"sector\"].unique()\n",
    "top_roa_by_sector = {}\n",
    "\n",
    "for item in unique_sectors:\n",
    "    \n",
    "    is_sector = f500[\"sector\"] == item\n",
    "    sector_companies = f500.loc[is_sector]\n",
    "    top_company = sector_companies.sort_values(\"roa\",ascending=False).iloc[0]\n",
    "    company_name = top_company[\"company\"]\n",
    "    top_roa_by_sector[item] = company_name\n",
    "print(top_roa_by_sector)"
   ]
  },
  {
   "cell_type": "markdown",
   "metadata": {},
   "source": [
    "# exploring laptops (advanced)"
   ]
  },
  {
   "cell_type": "code",
   "execution_count": 1,
   "metadata": {},
   "outputs": [
    {
     "name": "stdout",
     "output_type": "stream",
     "text": [
      "<class 'pandas.core.frame.DataFrame'>\n",
      "RangeIndex: 1303 entries, 0 to 1302\n",
      "Data columns (total 13 columns):\n",
      "Manufacturer                1303 non-null object\n",
      "Model Name                  1303 non-null object\n",
      "Category                    1303 non-null object\n",
      "Screen Size                 1303 non-null object\n",
      "Screen                      1303 non-null object\n",
      "CPU                         1303 non-null object\n",
      "RAM                         1303 non-null object\n",
      " Storage                    1303 non-null object\n",
      "GPU                         1303 non-null object\n",
      "Operating System            1303 non-null object\n",
      "Operating System Version    1133 non-null object\n",
      "Weight                      1303 non-null object\n",
      "Price (Euros)               1303 non-null object\n",
      "dtypes: object(13)\n",
      "memory usage: 132.5+ KB\n"
     ]
    }
   ],
   "source": [
    "import pandas as pd\n",
    "laptops = pd.read_csv(\"laptops.csv\", encoding=\"Latin-1\")\n",
    "laptops.info()"
   ]
  },
  {
   "cell_type": "code",
   "execution_count": 15,
   "metadata": {},
   "outputs": [
    {
     "name": "stdout",
     "output_type": "stream",
     "text": [
      "Index(['Manufacturer', 'Model Name', 'Category', 'Screen Size', 'Screen',\n",
      "       'CPU', 'RAM', 'Storage', 'GPU', 'Operating System',\n",
      "       'Operating System Version', 'Weight', 'Price (Euros)'],\n",
      "      dtype='object')\n",
      "\n",
      " after stripping \n",
      "\n",
      "Index(['Manufacturer', 'Model Name', 'Category', 'Screen Size', 'Screen',\n",
      "       'CPU', 'RAM', 'Storage', 'GPU', 'Operating System',\n",
      "       'Operating System Version', 'Weight', 'Price (Euros)'],\n",
      "      dtype='object')\n"
     ]
    }
   ],
   "source": [
    "new_columns = []\n",
    "print(laptops.columns)\n",
    "for item in laptops.columns:\n",
    "    clean_c = item.strip()\n",
    "    new_columns.append(clean_c)\n",
    "    \n",
    "laptops.columns = new_columns   \n",
    "print(\"\\n\" ,\"after stripping\",\"\\n\")\n",
    "print(laptops.columns)\n"
   ]
  },
  {
   "cell_type": "markdown",
   "metadata": {},
   "source": [
    "# cleanning column names and data"
   ]
  },
  {
   "cell_type": "code",
   "execution_count": 16,
   "metadata": {},
   "outputs": [
    {
     "name": "stdout",
     "output_type": "stream",
     "text": [
      "Index(['manufacturer', 'model_name', 'category', 'screen_size', 'screen',\n",
      "       'cpu', 'ram', 'storage', 'gpu', 'os', 'os_version', 'weight',\n",
      "       'price_euros'],\n",
      "      dtype='object')\n"
     ]
    }
   ],
   "source": [
    "import pandas as pd\n",
    "laptops = pd.read_csv('laptops.csv', encoding='Latin-1')\n",
    "def clean_col(col):\n",
    "    col = col.strip()\n",
    "    col = col.replace(\"Operating System\",\"os\")\n",
    "    col = col.replace(\" \",\"_\")\n",
    "    col = col.replace(\"(\",\"\")\n",
    "    col = col.replace(\")\",\"\")\n",
    "    col = col.lower()\n",
    "    return col\n",
    "new_columns = []\n",
    "for c in laptops.columns:\n",
    "    clean_c = clean_col(c)\n",
    "    new_columns.append(clean_c)\n",
    "    \n",
    "laptops.columns = new_columns\n",
    "\n",
    "print(laptops.columns)"
   ]
  },
  {
   "cell_type": "code",
   "execution_count": 18,
   "metadata": {},
   "outputs": [
    {
     "name": "stdout",
     "output_type": "stream",
     "text": [
      "['8GB' '16GB' '4GB' '2GB' '12GB' '6GB' '32GB' '24GB' '64GB']\n"
     ]
    }
   ],
   "source": [
    "unique_ram = laptops[\"ram\"].unique()\n",
    "print(unique_ram)"
   ]
  },
  {
   "cell_type": "code",
   "execution_count": 19,
   "metadata": {},
   "outputs": [
    {
     "name": "stdout",
     "output_type": "stream",
     "text": [
      "['8' '16' '4' '2' '12' '6' '32' '24' '64']\n"
     ]
    }
   ],
   "source": [
    "laptops[\"ram\"]  = laptops[\"ram\"].str.replace('GB','')\n",
    "unique_ram = laptops[\"ram\"].unique()\n",
    "print(unique_ram)"
   ]
  },
  {
   "cell_type": "code",
   "execution_count": 26,
   "metadata": {},
   "outputs": [
    {
     "name": "stdout",
     "output_type": "stream",
     "text": [
      "manufacturer    object\n",
      "model_name      object\n",
      "category        object\n",
      "screen_size     object\n",
      "screen          object\n",
      "cpu             object\n",
      "ram              int32\n",
      "storage         object\n",
      "gpu             object\n",
      "os              object\n",
      "os_version      object\n",
      "weight          object\n",
      "price_euros     object\n",
      "dtype: object\n",
      "count    1303.000000\n",
      "mean        8.382195\n",
      "std         5.084665\n",
      "min         2.000000\n",
      "25%         4.000000\n",
      "50%         8.000000\n",
      "75%         8.000000\n",
      "max        64.000000\n",
      "Name: ram_gb, dtype: float64\n"
     ]
    }
   ],
   "source": [
    "laptops[\"ram\"] = laptops[\"ram\"].astype(int)\n",
    "dtypes = laptops.dtypes\n",
    "print(dtypes)\n",
    "\n",
    "laptops.rename({\"ram\": \"ram_gb\"}, axis=1, inplace=True)\n",
    "ram_gb_desc = laptops[\"ram_gb\"].describe()\n",
    "print(ram_gb_desc)"
   ]
  },
  {
   "cell_type": "code",
   "execution_count": 29,
   "metadata": {},
   "outputs": [
    {
     "name": "stdout",
     "output_type": "stream",
     "text": [
      "{'Intel': 1240, 'AMD': 62, 'Samsung': 1}\n",
      "Intel      1240\n",
      "AMD          62\n",
      "Samsung       1\n",
      "Name: cpu_manufacturer, dtype: int64\n"
     ]
    }
   ],
   "source": [
    "laptops[\"gpu_manufacturer\"] = (laptops[\"gpu\"]\n",
    "                                       .str.split()\n",
    "                                       .str[0]\n",
    "                              )\n",
    "\n",
    "laptops[\"cpu_manufacturer\"] = (laptops[\"cpu\"]\n",
    "                                       .str.split()\n",
    "                                       .str[0]\n",
    "                              )\n",
    "cpu_manufacturer_counts0 = {}\n",
    "list_cpu = laptops[\"cpu_manufacturer\"]\n",
    "for item in list_cpu:\n",
    "    if item not in cpu_manufacturer_counts0:\n",
    "        cpu_manufacturer_counts0[item] = 1\n",
    "    else:\n",
    "        cpu_manufacturer_counts0[item] += 1\n",
    "        \n",
    "cpu_manufacturer_counts = laptops[\"cpu_manufacturer\"].value_counts()\n",
    "print(cpu_manufacturer_counts0)\n",
    "print(cpu_manufacturer_counts)"
   ]
  },
  {
   "cell_type": "code",
   "execution_count": 31,
   "metadata": {},
   "outputs": [
    {
     "name": "stdout",
     "output_type": "stream",
     "text": [
      "0         macOS\n",
      "1         macOS\n",
      "2         No OS\n",
      "3         macOS\n",
      "4         macOS\n",
      "         ...   \n",
      "1298    Windows\n",
      "1299    Windows\n",
      "1300    Windows\n",
      "1301    Windows\n",
      "1302    Windows\n",
      "Name: os, Length: 1303, dtype: object\n"
     ]
    }
   ],
   "source": [
    "mapping_dict = {\n",
    "    'Android': 'Android',\n",
    "    'Chrome OS': 'Chrome OS',\n",
    "    'Linux': 'Linux',\n",
    "    'Mac OS': 'macOS',\n",
    "    'No OS': 'No OS',\n",
    "    'Windows': 'Windows',\n",
    "    'macOS': 'macOS'\n",
    "}\n",
    "laptops[\"os\"] = laptops[\"os\"].map(mapping_dict)\n",
    "print(laptops[\"os\"])\n"
   ]
  },
  {
   "cell_type": "code",
   "execution_count": 32,
   "metadata": {},
   "outputs": [],
   "source": [
    "# get rid of columns with NaNs data\n",
    "laptops_no_null_rows = laptops.dropna()\n",
    "laptops_no_null_cols = laptops.dropna(axis=1)"
   ]
  },
  {
   "cell_type": "code",
   "execution_count": 33,
   "metadata": {},
   "outputs": [
    {
     "name": "stdout",
     "output_type": "stream",
     "text": [
      "No OS        66\n",
      "Linux        62\n",
      "Chrome OS    27\n",
      "macOS        13\n",
      "Android       2\n",
      "Name: os, dtype: int64\n",
      "Linux        62\n",
      "Chrome OS    27\n",
      "Android       2\n",
      "Name: os, dtype: int64\n"
     ]
    }
   ],
   "source": [
    "value_counts_before = laptops.loc[laptops[\"os_version\"].isnull(), \"os\"].value_counts()\n",
    "print(value_counts_before)\n",
    "laptops.loc[laptops[\"os\"] == \"macOS\", \"os_version\"] = \"X\"\n",
    "\n",
    "laptops.loc[laptops[\"os\"] == \"No OS\", \"os_version\"] = \"Version Unknown\"\n",
    "value_counts_after = laptops.loc[laptops[\"os_version\"].isnull(), \"os\"].value_counts()\n",
    "print(value_counts_after)\n"
   ]
  },
  {
   "cell_type": "code",
   "execution_count": 42,
   "metadata": {},
   "outputs": [
    {
     "name": "stdout",
     "output_type": "stream",
     "text": [
      "  manufacturer   model_name   category screen_size  \\\n",
      "0        Apple  MacBook Pro  Ultrabook       13.3\"   \n",
      "1        Apple  Macbook Air  Ultrabook       13.3\"   \n",
      "2           HP       250 G6   Notebook       15.6\"   \n",
      "3        Apple  MacBook Pro  Ultrabook       15.4\"   \n",
      "4        Apple  MacBook Pro  Ultrabook       13.3\"   \n",
      "\n",
      "                               screen                         cpu  ram_gb  \\\n",
      "0  IPS Panel Retina Display 2560x1600        Intel Core i5 2.3GHz       8   \n",
      "1                            1440x900        Intel Core i5 1.8GHz       8   \n",
      "2                   Full HD 1920x1080  Intel Core i5 7200U 2.5GHz       8   \n",
      "3  IPS Panel Retina Display 2880x1800        Intel Core i7 2.7GHz      16   \n",
      "4  IPS Panel Retina Display 2560x1600        Intel Core i5 3.1GHz       8   \n",
      "\n",
      "               storage                           gpu     os       os_version  \\\n",
      "0            128GB SSD  Intel Iris Plus Graphics 640  macOS                X   \n",
      "1  128GB Flash Storage        Intel HD Graphics 6000  macOS                X   \n",
      "2            256GB SSD         Intel HD Graphics 620  No OS  Version Unknown   \n",
      "3            512GB SSD            AMD Radeon Pro 455  macOS                X   \n",
      "4            256GB SSD  Intel Iris Plus Graphics 650  macOS                X   \n",
      "\n",
      "   weight_kg price_euros gpu_manufacturer cpu_manufacturer  \n",
      "0       1.37     1339,69            Intel            Intel  \n",
      "1       1.34      898,94            Intel            Intel  \n",
      "2       1.86      575,00            Intel            Intel  \n",
      "3       1.83     2537,45              AMD            Intel  \n",
      "4       1.37     1803,60            Intel            Intel  \n"
     ]
    }
   ],
   "source": [
    "#print(laptops.head())\n",
    "# Convert the values in the weight column to numeric values.\n",
    "# Once aplied will not work again because changes has been done\n",
    "laptops[\"weight\"]  = laptops[\"weight\"].str.replace(\"kgs\",\"\").str.replace(\"kg\",\"\").astype(float)\n",
    "# Rename the weight column to weight_kg\n",
    "laptops.rename({\"weight\": \"weight_kg\"}, axis=1, inplace=True)\n",
    "#save the laptops dataframe to a CSV file \n",
    "laptops.to_csv('laptops_cleaned.csv', index=False)\n",
    "print(laptops.head(10))"
   ]
  },
  {
   "cell_type": "code",
   "execution_count": null,
   "metadata": {},
   "outputs": [],
   "source": []
  }
 ],
 "metadata": {
  "kernelspec": {
   "display_name": "Python 3",
   "language": "python",
   "name": "python3"
  },
  "language_info": {
   "codemirror_mode": {
    "name": "ipython",
    "version": 3
   },
   "file_extension": ".py",
   "mimetype": "text/x-python",
   "name": "python",
   "nbconvert_exporter": "python",
   "pygments_lexer": "ipython3",
   "version": "3.7.4"
  }
 },
 "nbformat": 4,
 "nbformat_minor": 2
}
