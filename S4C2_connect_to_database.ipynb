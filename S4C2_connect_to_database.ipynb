{
 "cells": [
  {
   "cell_type": "code",
   "execution_count": 1,
   "metadata": {},
   "outputs": [],
   "source": [
    "import sqlite3\n",
    "conn = sqlite3.connect(\"jobs.db\")"
   ]
  },
  {
   "cell_type": "code",
   "execution_count": 2,
   "metadata": {},
   "outputs": [
    {
     "name": "stdout",
     "output_type": "stream",
     "text": [
      "[(0, 1, 2419, 'PETROLEUM ENGINEERING', 'Engineering', 2339, 36, 2057, 282, 0.120564344, 1976, 1849, 270, 1207, 37, 0.018380527, 110000, 95000, 125000, 1534, 364, 193), (1, 2, 2416, 'MINING AND MINERAL ENGINEERING', 'Engineering', 756, 7, 679, 77, 0.10185185199999999, 640, 556, 170, 388, 85, 0.117241379, 75000, 55000, 90000, 350, 257, 50)]\n"
     ]
    }
   ],
   "source": [
    "cursor = conn.cursor()\n",
    "\n",
    "query = \"select * from recent_grads;\"\n",
    "cursor.execute(query)\n",
    "results = cursor.fetchall()\n",
    "print(results[0:2])"
   ]
  },
  {
   "cell_type": "code",
   "execution_count": 3,
   "metadata": {},
   "outputs": [
    {
     "name": "stdout",
     "output_type": "stream",
     "text": [
      "[('PETROLEUM ENGINEERING',), ('MINING AND MINERAL ENGINEERING',), ('METALLURGICAL ENGINEERING',)]\n"
     ]
    }
   ],
   "source": [
    "query = \"select major from recent_grads;\"\n",
    "majors = cursor.execute(query).fetchall()\n",
    "print(majors[0:3])"
   ]
  },
  {
   "cell_type": "code",
   "execution_count": 5,
   "metadata": {},
   "outputs": [
    {
     "data": {
      "text/plain": [
       "[('PETROLEUM ENGINEERING', 'Engineering'),\n",
       " ('MINING AND MINERAL ENGINEERING', 'Engineering'),\n",
       " ('METALLURGICAL ENGINEERING', 'Engineering'),\n",
       " ('NAVAL ARCHITECTURE AND MARINE ENGINEERING', 'Engineering'),\n",
       " ('CHEMICAL ENGINEERING', 'Engineering')]"
      ]
     },
     "execution_count": 5,
     "metadata": {},
     "output_type": "execute_result"
    }
   ],
   "source": [
    "query = \"select Major,Major_category from recent_grads;\"\n",
    "cursor.execute(query)\n",
    "five_results = cursor.fetchmany(5)\n",
    "five_results"
   ]
  },
  {
   "cell_type": "code",
   "execution_count": 6,
   "metadata": {},
   "outputs": [],
   "source": [
    "conn.close()"
   ]
  },
  {
   "cell_type": "code",
   "execution_count": 7,
   "metadata": {},
   "outputs": [],
   "source": [
    "conn = sqlite3.connect(\"jobs2.db\")\n",
    "query = \"select Major from recent_grads order by Major desc;\"\n",
    "reverse_alphabetical = conn.cursor().execute(query).fetchall()\n",
    "conn.close()"
   ]
  },
  {
   "cell_type": "code",
   "execution_count": 8,
   "metadata": {},
   "outputs": [
    {
     "data": {
      "text/plain": [
       "[('ZOOLOGY',),\n",
       " ('VISUAL AND PERFORMING ARTS',),\n",
       " ('UNITED STATES HISTORY',),\n",
       " ('TREATMENT THERAPY PROFESSIONS',),\n",
       " ('TRANSPORTATION SCIENCES AND TECHNOLOGIES',),\n",
       " ('THEOLOGY AND RELIGIOUS VOCATIONS',),\n",
       " ('TEACHER EDUCATION: MULTIPLE LEVELS',),\n",
       " ('STUDIO ARTS',),\n",
       " ('STATISTICS AND DECISION SCIENCE',),\n",
       " ('SPECIAL NEEDS EDUCATION',),\n",
       " ('SOIL SCIENCE',),\n",
       " ('SOCIOLOGY',),\n",
       " ('SOCIAL WORK',),\n",
       " ('SOCIAL SCIENCE OR HISTORY TEACHER EDUCATION',),\n",
       " ('SOCIAL PSYCHOLOGY',),\n",
       " ('SECONDARY TEACHER EDUCATION',),\n",
       " ('SCIENCE AND COMPUTER TEACHER EDUCATION',),\n",
       " ('SCHOOL STUDENT COUNSELING',),\n",
       " ('PUBLIC POLICY',),\n",
       " ('PUBLIC ADMINISTRATION',),\n",
       " ('PSYCHOLOGY',),\n",
       " ('PRE-LAW AND LEGAL STUDIES',),\n",
       " ('POLITICAL SCIENCE AND GOVERNMENT',),\n",
       " ('PLANT SCIENCE AND AGRONOMY',),\n",
       " ('PHYSIOLOGY',),\n",
       " ('PHYSICS',),\n",
       " ('PHYSICAL SCIENCES',),\n",
       " ('PHYSICAL FITNESS PARKS RECREATION AND LEISURE',),\n",
       " ('PHYSICAL AND HEALTH EDUCATION TEACHING',),\n",
       " ('PHILOSOPHY AND RELIGIOUS STUDIES',),\n",
       " ('PHARMACY PHARMACEUTICAL SCIENCES AND ADMINISTRATION',),\n",
       " ('PHARMACOLOGY',),\n",
       " ('PETROLEUM ENGINEERING',),\n",
       " ('OTHER FOREIGN LANGUAGES',),\n",
       " ('OPERATIONS LOGISTICS AND E-COMMERCE',),\n",
       " ('OCEANOGRAPHY',),\n",
       " ('NUTRITION SCIENCES',),\n",
       " ('NURSING',),\n",
       " ('NUCLEAR, INDUSTRIAL RADIOLOGY, AND BIOLOGICAL TECHNOLOGIES',),\n",
       " ('NUCLEAR ENGINEERING',),\n",
       " ('NEUROSCIENCE',),\n",
       " ('NAVAL ARCHITECTURE AND MARINE ENGINEERING',),\n",
       " ('NATURAL RESOURCES MANAGEMENT',),\n",
       " ('MUSIC',),\n",
       " ('MULTI/INTERDISCIPLINARY STUDIES',),\n",
       " ('MULTI-DISCIPLINARY OR GENERAL SCIENCE',),\n",
       " ('MOLECULAR BIOLOGY',),\n",
       " ('MISCELLANEOUS SOCIAL SCIENCES',),\n",
       " ('MISCELLANEOUS PSYCHOLOGY',),\n",
       " ('MISCELLANEOUS HEALTH MEDICAL PROFESSIONS',),\n",
       " ('MISCELLANEOUS FINE ARTS',),\n",
       " ('MISCELLANEOUS ENGINEERING TECHNOLOGIES',),\n",
       " ('MISCELLANEOUS ENGINEERING',),\n",
       " ('MISCELLANEOUS EDUCATION',),\n",
       " ('MISCELLANEOUS BUSINESS & MEDICAL ADMINISTRATION',),\n",
       " ('MISCELLANEOUS BIOLOGY',),\n",
       " ('MISCELLANEOUS AGRICULTURE',),\n",
       " ('MINING AND MINERAL ENGINEERING',),\n",
       " ('MILITARY TECHNOLOGIES',),\n",
       " ('MICROBIOLOGY',),\n",
       " ('METALLURGICAL ENGINEERING',),\n",
       " ('MEDICAL TECHNOLOGIES TECHNICIANS',),\n",
       " ('MEDICAL ASSISTING SERVICES',),\n",
       " ('MECHANICAL ENGINEERING RELATED TECHNOLOGIES',),\n",
       " ('MECHANICAL ENGINEERING',),\n",
       " ('MATHEMATICS TEACHER EDUCATION',),\n",
       " ('MATHEMATICS AND COMPUTER SCIENCE',),\n",
       " ('MATHEMATICS',),\n",
       " ('MATERIALS SCIENCE',),\n",
       " ('MATERIALS ENGINEERING AND MATERIALS SCIENCE',),\n",
       " ('MASS MEDIA',),\n",
       " ('MARKETING AND MARKETING RESEARCH',),\n",
       " ('MANAGEMENT INFORMATION SYSTEMS AND STATISTICS',),\n",
       " ('LINGUISTICS AND COMPARATIVE LANGUAGE AND LITERATURE',),\n",
       " ('LIBRARY SCIENCE',),\n",
       " ('LIBERAL ARTS',),\n",
       " ('LANGUAGE AND DRAMA EDUCATION',),\n",
       " ('JOURNALISM',),\n",
       " ('INTERNATIONAL RELATIONS',),\n",
       " ('INTERNATIONAL BUSINESS',),\n",
       " ('INTERDISCIPLINARY SOCIAL SCIENCES',),\n",
       " ('INTERCULTURAL AND INTERNATIONAL STUDIES',),\n",
       " ('INFORMATION SCIENCES',),\n",
       " ('INDUSTRIAL PRODUCTION TECHNOLOGIES',),\n",
       " ('INDUSTRIAL AND ORGANIZATIONAL PSYCHOLOGY',),\n",
       " ('INDUSTRIAL AND MANUFACTURING ENGINEERING',),\n",
       " ('HUMANITIES',),\n",
       " ('HUMAN SERVICES AND COMMUNITY ORGANIZATION',),\n",
       " ('HUMAN RESOURCES AND PERSONNEL MANAGEMENT',),\n",
       " ('HOSPITALITY MANAGEMENT',),\n",
       " ('HISTORY',),\n",
       " ('HEALTH AND MEDICAL PREPARATORY PROGRAMS',),\n",
       " ('HEALTH AND MEDICAL ADMINISTRATIVE SERVICES',),\n",
       " ('GEOSCIENCES',),\n",
       " ('GEOLOGY AND EARTH SCIENCE',),\n",
       " ('GEOLOGICAL AND GEOPHYSICAL ENGINEERING',),\n",
       " ('GEOGRAPHY',),\n",
       " ('GENETICS',),\n",
       " ('GENERAL SOCIAL SCIENCES',),\n",
       " ('GENERAL MEDICAL AND HEALTH SERVICES',),\n",
       " ('GENERAL ENGINEERING',),\n",
       " ('GENERAL EDUCATION',),\n",
       " ('GENERAL BUSINESS',),\n",
       " ('GENERAL AGRICULTURE',),\n",
       " ('FRENCH GERMAN LATIN AND OTHER COMMON FOREIGN LANGUAGE STUDIES',),\n",
       " ('FORESTRY',),\n",
       " ('FOOD SCIENCE',),\n",
       " ('FINE ARTS',),\n",
       " ('FINANCE',),\n",
       " ('FILM VIDEO AND PHOTOGRAPHIC ARTS',),\n",
       " ('FAMILY AND CONSUMER SCIENCES',),\n",
       " ('ENVIRONMENTAL SCIENCE',),\n",
       " ('ENVIRONMENTAL ENGINEERING',),\n",
       " ('ENGLISH LANGUAGE AND LITERATURE',),\n",
       " ('ENGINEERING TECHNOLOGIES',),\n",
       " ('ENGINEERING MECHANICS PHYSICS AND SCIENCE',),\n",
       " ('ENGINEERING AND INDUSTRIAL MANAGEMENT',),\n",
       " ('ELEMENTARY EDUCATION',),\n",
       " ('ELECTRICAL, MECHANICAL, AND PRECISION TECHNOLOGIES AND PRODUCTION',),\n",
       " ('ELECTRICAL ENGINEERING TECHNOLOGY',),\n",
       " ('ELECTRICAL ENGINEERING',),\n",
       " ('EDUCATIONAL PSYCHOLOGY',),\n",
       " ('EDUCATIONAL ADMINISTRATION AND SUPERVISION',),\n",
       " ('ECONOMICS',),\n",
       " ('ECOLOGY',),\n",
       " ('EARLY CHILDHOOD EDUCATION',),\n",
       " ('DRAMA AND THEATER ARTS',),\n",
       " ('CRIMINOLOGY',),\n",
       " ('CRIMINAL JUSTICE AND FIRE PROTECTION',),\n",
       " ('COURT REPORTING',),\n",
       " ('COUNSELING PSYCHOLOGY',),\n",
       " ('COSMETOLOGY SERVICES AND CULINARY ARTS',),\n",
       " ('CONSTRUCTION SERVICES',),\n",
       " ('COMPUTER SCIENCE',),\n",
       " ('COMPUTER PROGRAMMING AND DATA PROCESSING',),\n",
       " ('COMPUTER NETWORKING AND TELECOMMUNICATIONS',),\n",
       " ('COMPUTER ENGINEERING',),\n",
       " ('COMPUTER AND INFORMATION SYSTEMS',),\n",
       " ('COMPUTER ADMINISTRATION MANAGEMENT AND SECURITY',),\n",
       " ('COMPOSITION AND RHETORIC',),\n",
       " ('COMMUNITY AND PUBLIC HEALTH',),\n",
       " ('COMMUNICATIONS',),\n",
       " ('COMMUNICATION TECHNOLOGIES',),\n",
       " ('COMMUNICATION DISORDERS SCIENCES AND SERVICES',),\n",
       " ('COMMERCIAL ART AND GRAPHIC DESIGN',),\n",
       " ('COGNITIVE SCIENCE AND BIOPSYCHOLOGY',),\n",
       " ('CLINICAL PSYCHOLOGY',),\n",
       " ('CIVIL ENGINEERING',),\n",
       " ('CHEMISTRY',),\n",
       " ('CHEMICAL ENGINEERING',),\n",
       " ('BUSINESS MANAGEMENT AND ADMINISTRATION',),\n",
       " ('BUSINESS ECONOMICS',),\n",
       " ('BOTANY',),\n",
       " ('BIOMEDICAL ENGINEERING',),\n",
       " ('BIOLOGY',),\n",
       " ('BIOLOGICAL ENGINEERING',),\n",
       " ('BIOCHEMICAL SCIENCES',),\n",
       " ('ATMOSPHERIC SCIENCES AND METEOROLOGY',),\n",
       " ('ASTRONOMY AND ASTROPHYSICS',),\n",
       " ('ART HISTORY AND CRITICISM',),\n",
       " ('ART AND MUSIC EDUCATION',),\n",
       " ('AREA ETHNIC AND CIVILIZATION STUDIES',),\n",
       " ('ARCHITECTURE',),\n",
       " ('ARCHITECTURAL ENGINEERING',),\n",
       " ('APPLIED MATHEMATICS',),\n",
       " ('ANTHROPOLOGY AND ARCHEOLOGY',),\n",
       " ('ANIMAL SCIENCES',),\n",
       " ('AGRICULTURE PRODUCTION AND MANAGEMENT',),\n",
       " ('AGRICULTURAL ECONOMICS',),\n",
       " ('AEROSPACE ENGINEERING',),\n",
       " ('ADVERTISING AND PUBLIC RELATIONS',),\n",
       " ('ACTUARIAL SCIENCE',),\n",
       " ('ACCOUNTING',)]"
      ]
     },
     "execution_count": 8,
     "metadata": {},
     "output_type": "execute_result"
    }
   ],
   "source": [
    "reverse_alphabetical"
   ]
  },
  {
   "cell_type": "code",
   "execution_count": null,
   "metadata": {},
   "outputs": [],
   "source": []
  }
 ],
 "metadata": {
  "kernelspec": {
   "display_name": "Python 3",
   "language": "python",
   "name": "python3"
  },
  "language_info": {
   "codemirror_mode": {
    "name": "ipython",
    "version": 3
   },
   "file_extension": ".py",
   "mimetype": "text/x-python",
   "name": "python",
   "nbconvert_exporter": "python",
   "pygments_lexer": "ipython3",
   "version": "3.7.4"
  }
 },
 "nbformat": 4,
 "nbformat_minor": 2
}
