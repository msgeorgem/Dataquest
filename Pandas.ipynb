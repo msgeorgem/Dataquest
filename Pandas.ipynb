{
 "cells": [
  {
   "cell_type": "code",
   "execution_count": 2,
   "metadata": {},
   "outputs": [
    {
     "name": "stdout",
     "output_type": "stream",
     "text": [
      "<class 'pandas.core.frame.DataFrame'>\n",
      "Index: 500 entries, Walmart to AutoNation\n",
      "Data columns (total 16 columns):\n",
      "rank                        500 non-null int64\n",
      "revenues                    500 non-null int64\n",
      "revenue_change              498 non-null float64\n",
      "profits                     499 non-null float64\n",
      "assets                      500 non-null int64\n",
      "profit_change               436 non-null float64\n",
      "ceo                         500 non-null object\n",
      "industry                    500 non-null object\n",
      "sector                      500 non-null object\n",
      "previous_rank               500 non-null int64\n",
      "country                     500 non-null object\n",
      "hq_location                 500 non-null object\n",
      "website                     500 non-null object\n",
      "years_on_global_500_list    500 non-null int64\n",
      "employees                   500 non-null int64\n",
      "total_stockholder_equity    500 non-null int64\n",
      "dtypes: float64(3), int64(7), object(6)\n",
      "memory usage: 66.4+ KB\n",
      "None\n"
     ]
    }
   ],
   "source": [
    "import pandas as pd\n",
    "f500 = pd.read_csv('f500.csv',index_col=0)\n",
    "f500.index.name = None\n",
    "f500_type = type(f500)\n",
    "f500_shape = f500.shape\n",
    "#print(f500)\n",
    "f500_head = f500.head(6)\n",
    "f500_tail = f500.tail(8)\n",
    "#print(f500_head)\n",
    "\n",
    "print(f500.info())"
   ]
  },
  {
   "cell_type": "code",
   "execution_count": 3,
   "metadata": {},
   "outputs": [
    {
     "name": "stdout",
     "output_type": "stream",
     "text": [
      "Walmart                                     General Merchandisers\n",
      "State Grid                                              Utilities\n",
      "Sinopec Group                                  Petroleum Refining\n",
      "China National Petroleum                       Petroleum Refining\n",
      "Toyota Motor                             Motor Vehicles and Parts\n",
      "                                               ...               \n",
      "Teva Pharmaceutical Industries                    Pharmaceuticals\n",
      "New China Life Insurance          Insurance: Life, Health (stock)\n",
      "Wm. Morrison Supermarkets                    Food and Drug Stores\n",
      "TUI                                               Travel Services\n",
      "AutoNation                                    Specialty Retailers\n",
      "Name: industry, Length: 500, dtype: object\n",
      "<class 'pandas.core.series.Series'>\n"
     ]
    }
   ],
   "source": [
    "industries = f500[\"industry\"]\n",
    "print(industries)\n",
    "industries_type = type(industries)\n",
    "print(industries_type)"
   ]
  },
  {
   "cell_type": "code",
   "execution_count": 4,
   "metadata": {},
   "outputs": [
    {
     "name": "stdout",
     "output_type": "stream",
     "text": [
      "                                                ceo  \\\n",
      "Walmart                         C. Douglas McMillon   \n",
      "State Grid                                  Kou Wei   \n",
      "Sinopec Group                             Wang Yupu   \n",
      "China National Petroleum              Zhang Jianhua   \n",
      "Toyota Motor                            Akio Toyoda   \n",
      "...                                             ...   \n",
      "Teva Pharmaceutical Industries    Yitzhak Peterburg   \n",
      "New China Life Insurance                   Wan Feng   \n",
      "Wm. Morrison Supermarkets            David T. Potts   \n",
      "TUI                               Friedrich Joussen   \n",
      "AutoNation                       Michael J. Jackson   \n",
      "\n",
      "                                                       industry  \\\n",
      "Walmart                                   General Merchandisers   \n",
      "State Grid                                            Utilities   \n",
      "Sinopec Group                                Petroleum Refining   \n",
      "China National Petroleum                     Petroleum Refining   \n",
      "Toyota Motor                           Motor Vehicles and Parts   \n",
      "...                                                         ...   \n",
      "Teva Pharmaceutical Industries                  Pharmaceuticals   \n",
      "New China Life Insurance        Insurance: Life, Health (stock)   \n",
      "Wm. Morrison Supermarkets                  Food and Drug Stores   \n",
      "TUI                                             Travel Services   \n",
      "AutoNation                                  Specialty Retailers   \n",
      "\n",
      "                                                sector  \n",
      "Walmart                                      Retailing  \n",
      "State Grid                                      Energy  \n",
      "Sinopec Group                                   Energy  \n",
      "China National Petroleum                        Energy  \n",
      "Toyota Motor                    Motor Vehicles & Parts  \n",
      "...                                                ...  \n",
      "Teva Pharmaceutical Industries             Health Care  \n",
      "New China Life Insurance                    Financials  \n",
      "Wm. Morrison Supermarkets           Food & Drug Stores  \n",
      "TUI                                  Business Services  \n",
      "AutoNation                                   Retailing  \n",
      "\n",
      "[500 rows x 3 columns]\n"
     ]
    }
   ],
   "source": [
    "countries = f500[\"country\"]\n",
    "revenues_years = f500[['revenues','years_on_global_500_list']]\n",
    "#print(revenues_years)\n",
    "ceo_to_sector = f500.loc[:,\"ceo\":\"sector\"]\n",
    "print(ceo_to_sector)"
   ]
  },
  {
   "cell_type": "code",
   "execution_count": 5,
   "metadata": {},
   "outputs": [
    {
     "name": "stdout",
     "output_type": "stream",
     "text": [
      "                                 rank  revenues  revenue_change  profits  \\\n",
      "Tata Motors                       247     40329            -4.2   1111.6   \n",
      "Aluminum Corp. of China           248     40278             6.0   -282.5   \n",
      "Mitsui                            249     40275             1.6   2825.3   \n",
      "Manulife Financial                250     40238            49.4   2209.7   \n",
      "China Minsheng Banking            251     40234            -5.2   7201.6   \n",
      "China Pacific Insurance (Group)   252     40193             2.2   1814.9   \n",
      "American Airlines Group           253     40180            -2.0   2676.0   \n",
      "Nationwide                        254     40074            -0.4    334.3   \n",
      "\n",
      "                                 assets  profit_change                   ceo  \\\n",
      "Tata Motors                       42162          -34.0      Guenter Butschek   \n",
      "Aluminum Corp. of China           75089            NaN              Yu Dehui   \n",
      "Mitsui                           103231            NaN       Tatsuo Yasunaga   \n",
      "Manulife Financial               537461           28.9     Donald A. Guloien   \n",
      "China Minsheng Banking           848389           -1.8         Zheng Wanchun   \n",
      "China Pacific Insurance (Group)  146873          -35.7          Huo Lianhong   \n",
      "American Airlines Group           51274          -64.8     W. Douglas Parker   \n",
      "Nationwide                       197790          -42.4  Stephen S. Rasmussen   \n",
      "\n",
      "                                                                  industry  \\\n",
      "Tata Motors                                       Motor Vehicles and Parts   \n",
      "Aluminum Corp. of China                                             Metals   \n",
      "Mitsui                                                             Trading   \n",
      "Manulife Financial                         Insurance: Life, Health (stock)   \n",
      "China Minsheng Banking                       Banks: Commercial and Savings   \n",
      "China Pacific Insurance (Group)            Insurance: Life, Health (stock)   \n",
      "American Airlines Group                                           Airlines   \n",
      "Nationwide                       Insurance: Property and Casualty (Mutual)   \n",
      "\n",
      "                                                 sector  previous_rank country  \n",
      "Tata Motors                      Motor Vehicles & Parts            226   India  \n",
      "Aluminum Corp. of China                       Materials            262   China  \n",
      "Mitsui                                      Wholesalers            245   Japan  \n",
      "Manulife Financial                           Financials            394  Canada  \n",
      "China Minsheng Banking                       Financials            221   China  \n",
      "China Pacific Insurance (Group)              Financials            251   China  \n",
      "American Airlines Group                  Transportation            236     USA  \n",
      "Nationwide                                   Financials            241     USA  \n"
     ]
    }
   ],
   "source": [
    "toyota = f500.loc[\"Toyota Motor\"]\n",
    "#print(toyota)\n",
    "drink_companies = f500.loc[[\"Anheuser-Busch InBev\", \"Coca-Cola\", \"Heineken Holding\"]]\n",
    "#print(drink_companies)\n",
    "middle_companies =  f500.loc[\"Tata Motors\": \"Nationwide\"]\n",
    "middle_companies = middle_companies.loc[:,\"rank\": \"country\"]\n",
    "print(middle_companies)"
   ]
  },
  {
   "cell_type": "code",
   "execution_count": 6,
   "metadata": {},
   "outputs": [
    {
     "name": "stdout",
     "output_type": "stream",
     "text": [
      "USA             132\n",
      "China           109\n",
      "Japan            51\n",
      "France           29\n",
      "Germany          29\n",
      "Britain          24\n",
      "South Korea      15\n",
      "Switzerland      14\n",
      "Netherlands      14\n",
      "Canada           11\n",
      "Spain             9\n",
      "Brazil            7\n",
      "India             7\n",
      "Italy             7\n",
      "Australia         7\n",
      "Taiwan            6\n",
      "Ireland           4\n",
      "Russia            4\n",
      "Singapore         3\n",
      "Sweden            3\n",
      "Mexico            2\n",
      "Israel            1\n",
      "Indonesia         1\n",
      "Malaysia          1\n",
      "Denmark           1\n",
      "Saudi Arabia      1\n",
      "Luxembourg        1\n",
      "Belgium           1\n",
      "Thailand          1\n",
      "Norway            1\n",
      "U.A.E             1\n",
      "Venezuela         1\n",
      "Finland           1\n",
      "Turkey            1\n",
      "Name: country, dtype: int64\n"
     ]
    }
   ],
   "source": [
    "countries = f500[\"country\"]\n",
    "country_counts = countries.value_counts()\n",
    "print(country_counts)"
   ]
  },
  {
   "cell_type": "code",
   "execution_count": 7,
   "metadata": {},
   "outputs": [
    {
     "name": "stdout",
     "output_type": "stream",
     "text": [
      "USA       132\n",
      "Canada     11\n",
      "Mexico      2\n",
      "Name: country, dtype: int64\n"
     ]
    }
   ],
   "source": [
    "countries = f500['country']\n",
    "countries_counts = countries.value_counts()\n",
    "india = countries_counts.loc[\"India\"]\n",
    "north_america = countries_counts.loc[[\"USA\", \"Canada\", \"Mexico\"]]\n",
    "print(north_america)"
   ]
  },
  {
   "cell_type": "code",
   "execution_count": 8,
   "metadata": {},
   "outputs": [
    {
     "name": "stdout",
     "output_type": "stream",
     "text": [
      "                                       rank              sector  country\n",
      "National Grid                           491              Energy  Britain\n",
      "Dollar General                          492           Retailing      USA\n",
      "Telecom Italia                          493  Telecommunications    Italy\n",
      "Xiamen ITG Holding Group                494         Wholesalers    China\n",
      "Xinjiang Guanghui Industry Investment   495         Wholesalers    China\n",
      "Teva Pharmaceutical Industries          496         Health Care   Israel\n",
      "New China Life Insurance                497          Financials    China\n",
      "Wm. Morrison Supermarkets               498  Food & Drug Stores  Britain\n",
      "TUI                                     499   Business Services  Germany\n",
      "AutoNation                              500           Retailing      USA\n"
     ]
    }
   ],
   "source": [
    "big_movers = f500.loc[[\"Aviva\", \"HP\", \"JD.com\", \"BHP Billiton\"],[\"rank\",\"previous_rank\"]]\n",
    "#print(big_movers)\n",
    "bottom_companies = f500.loc[\"National Grid\":\"AutoNation\",[\"rank\", \"sector\", \"country\"]]\n",
    "print(bottom_companies)"
   ]
  },
  {
   "cell_type": "code",
   "execution_count": 9,
   "metadata": {},
   "outputs": [
    {
     "name": "stdout",
     "output_type": "stream",
     "text": [
      "Walmart                             0\n",
      "State Grid                          0\n",
      "Sinopec Group                       1\n",
      "China National Petroleum           -1\n",
      "Toyota Motor                        3\n",
      "                                 ... \n",
      "Teva Pharmaceutical Industries   -496\n",
      "New China Life Insurance          -70\n",
      "Wm. Morrison Supermarkets         -61\n",
      "TUI                               -32\n",
      "AutoNation                       -500\n",
      "Length: 500, dtype: int64\n"
     ]
    }
   ],
   "source": [
    "rank_change = f500[\"previous_rank\"] - f500[\"rank\"]\n",
    "print(rank_change)"
   ]
  },
  {
   "cell_type": "code",
   "execution_count": 10,
   "metadata": {},
   "outputs": [],
   "source": [
    "rank_change =  f500[\"previous_rank\"] - f500[\"rank\"]\n",
    "rank_change_max = rank_change.max()\n",
    "rank_change_min = rank_change.min()"
   ]
  },
  {
   "cell_type": "code",
   "execution_count": 11,
   "metadata": {},
   "outputs": [],
   "source": [
    "rank = f500[\"rank\"]\n",
    "rank_desc = rank.describe() \n",
    "\n",
    "prev_rank = f500[\"previous_rank\"]\n",
    "prev_rank_desc = prev_rank.describe()"
   ]
  },
  {
   "cell_type": "code",
   "execution_count": 12,
   "metadata": {},
   "outputs": [],
   "source": [
    "# find where the previous rank was zero\n",
    "zero_previous_rank = f500[\"previous_rank\"].value_counts().loc[0]"
   ]
  },
  {
   "cell_type": "code",
   "execution_count": 16,
   "metadata": {},
   "outputs": [
    {
     "name": "stdout",
     "output_type": "stream",
     "text": [
      "rank                            500.0\n",
      "revenues                     485873.0\n",
      "revenue_change                  442.3\n",
      "profits                       45687.0\n",
      "assets                      3473238.0\n",
      "profit_change                  8909.5\n",
      "previous_rank                   500.0\n",
      "years_on_global_500_list         23.0\n",
      "employees                   2300000.0\n",
      "total_stockholder_equity     301893.0\n",
      "dtype: float64\n"
     ]
    }
   ],
   "source": [
    "max_f500 = f500.max(numeric_only=True)\n",
    "print(max_f500)"
   ]
  },
  {
   "cell_type": "code",
   "execution_count": 17,
   "metadata": {},
   "outputs": [
    {
     "name": "stdout",
     "output_type": "stream",
     "text": [
      "             rank       revenues  revenue_change       profits        assets  \\\n",
      "count  500.000000     500.000000      498.000000    499.000000  5.000000e+02   \n",
      "mean   250.500000   55416.358000        4.538353   3055.203206  2.436323e+05   \n",
      "std    144.481833   45725.478963       28.549067   5171.981071  4.851937e+05   \n",
      "min      1.000000   21609.000000      -67.300000 -13038.000000  3.717000e+03   \n",
      "25%    125.750000   29003.000000       -5.900000    556.950000  3.658850e+04   \n",
      "50%    250.500000   40236.000000        0.550000   1761.600000  7.326150e+04   \n",
      "75%    375.250000   63926.750000        6.975000   3954.000000  1.805640e+05   \n",
      "max    500.000000  485873.000000      442.300000  45687.000000  3.473238e+06   \n",
      "\n",
      "       profit_change  previous_rank  years_on_global_500_list     employees  \\\n",
      "count     436.000000     500.000000                500.000000  5.000000e+02   \n",
      "mean       24.152752     222.134000                 15.036000  1.339983e+05   \n",
      "std       437.509566     146.941961                  7.932752  1.700878e+05   \n",
      "min      -793.700000       0.000000                  1.000000  3.280000e+02   \n",
      "25%       -22.775000      92.750000                  7.000000  4.293250e+04   \n",
      "50%        -0.350000     219.500000                 17.000000  9.291050e+04   \n",
      "75%        17.700000     347.250000                 23.000000  1.689172e+05   \n",
      "max      8909.500000     500.000000                 23.000000  2.300000e+06   \n",
      "\n",
      "       total_stockholder_equity  \n",
      "count                500.000000  \n",
      "mean               30628.076000  \n",
      "std                43642.576833  \n",
      "min               -59909.000000  \n",
      "25%                 7553.750000  \n",
      "50%                15809.500000  \n",
      "75%                37828.500000  \n",
      "max               301893.000000  \n"
     ]
    }
   ],
   "source": [
    "f500_desc = f500.describe()\n",
    "print(f500_desc)"
   ]
  },
  {
   "cell_type": "code",
   "execution_count": 18,
   "metadata": {},
   "outputs": [
    {
     "name": "stdout",
     "output_type": "stream",
     "text": [
      "Jim Fitterling\n"
     ]
    }
   ],
   "source": [
    "#top5_rank_revenue = f500[[\"rank\", \"revenues\"]].head()\n",
    "#print(top5_rank_revenue)\n",
    "\n",
    "#assign values to the dataframe\n",
    "#top5_rank_revenue[\"revenues\"] = 0\n",
    "#print(top5_rank_revenue)\n",
    "\n",
    "#assign values to the dataframe\n",
    "f500.loc[\"Dow Chemical\",\"ceo\"] = \"Jim Fitterling\"\n",
    "print(f500.loc[\"Dow Chemical\",\"ceo\"])"
   ]
  },
  {
   "cell_type": "code",
   "execution_count": 19,
   "metadata": {},
   "outputs": [
    {
     "name": "stdout",
     "output_type": "stream",
     "text": [
      "Japan          10\n",
      "China           7\n",
      "Germany         6\n",
      "South Korea     3\n",
      "France          3\n",
      "USA             2\n",
      "India           1\n",
      "Canada          1\n",
      "Sweden          1\n",
      "Name: country, dtype: int64\n"
     ]
    }
   ],
   "source": [
    "motor_bool = f500[\"industry\"] == \"Motor Vehicles and Parts\"\n",
    "motor_countries = f500.loc[motor_bool,\"country\"]\n",
    "print(motor_countries.value_counts())"
   ]
  },
  {
   "cell_type": "code",
   "execution_count": 20,
   "metadata": {},
   "outputs": [],
   "source": [
    "import numpy as np\n",
    "prev_rank_before = f500[\"previous_rank\"].value_counts(dropna=False).head()\n",
    "#change 0 to numpy Nan\n",
    "#change 0 to numpy Nan\n",
    "f500.loc[f500[\"previous_rank\"] == 0, \"previous_rank\"] = np.nan\n",
    "prev_rank_after = f500[\"previous_rank\"].value_counts(dropna=False).head()"
   ]
  },
  {
   "cell_type": "code",
   "execution_count": null,
   "metadata": {},
   "outputs": [],
   "source": [
    "#adding new column\n",
    "#f500[\"rank_change\"] = rank_change\n",
    "f500[\"rank_change\"] = f500[\"previous_rank\"] - f500[\"rank\"]\n",
    "rank_change_desc = f500[\"rank_change\"].describe()\n",
    "\n",
    "#pick column where another column equals, count it and print first 2-3 rows\n",
    "industry_usa = f500[\"industry\"][f500[\"country\"] == \"USA\"].value_counts().head(2)\n",
    "sector_china = f500[\"sector\"][f500[\"country\"] == \"China\"].value_counts().head(3)\n"
   ]
  }
 ],
 "metadata": {
  "kernelspec": {
   "display_name": "Python 3",
   "language": "python",
   "name": "python3"
  },
  "language_info": {
   "codemirror_mode": {
    "name": "ipython",
    "version": 3
   },
   "file_extension": ".py",
   "mimetype": "text/x-python",
   "name": "python",
   "nbconvert_exporter": "python",
   "pygments_lexer": "ipython3",
   "version": "3.7.4"
  }
 },
 "nbformat": 4,
 "nbformat_minor": 2
}
