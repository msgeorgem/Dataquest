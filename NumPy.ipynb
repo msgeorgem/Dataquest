{
 "cells": [
  {
   "cell_type": "code",
   "execution_count": 8,
   "metadata": {},
   "outputs": [
    {
     "name": "stdout",
     "output_type": "stream",
     "text": [
      "[[2.016e+03 1.000e+00 1.000e+00 ... 1.165e+01 6.999e+01 1.000e+00]\n",
      " [2.016e+03 1.000e+00 1.000e+00 ... 8.000e+00 5.430e+01 1.000e+00]\n",
      " [2.016e+03 1.000e+00 1.000e+00 ... 0.000e+00 3.780e+01 2.000e+00]\n",
      " ...\n",
      " [2.016e+03 6.000e+00 3.000e+01 ... 5.000e+00 6.334e+01 1.000e+00]\n",
      " [2.016e+03 6.000e+00 3.000e+01 ... 8.950e+00 4.475e+01 1.000e+00]\n",
      " [2.016e+03 6.000e+00 3.000e+01 ... 0.000e+00 5.484e+01 2.000e+00]]\n"
     ]
    }
   ],
   "source": [
    "import csv\n",
    "import numpy as np\n",
    "\n",
    "# import nyc_taxi.csv as a list of lists\n",
    "f = open(\"nyc_taxis.csv\", \"r\")\n",
    "taxi_list = list(csv.reader(f))\n",
    "\n",
    "# remove the header row\n",
    "taxi_list = taxi_list[1:]\n",
    "\n",
    "# convert all values to floats\n",
    "converted_taxi_list = []\n",
    "for row in taxi_list:\n",
    "    converted_row = []\n",
    "    for item in row:\n",
    "        converted_row.append(float(item))\n",
    "    converted_taxi_list.append(converted_row)\n",
    "\n",
    "# start writing your code below this comment\n",
    "taxi = np.array(converted_taxi_list)\n",
    "print(taxi)"
   ]
  },
  {
   "cell_type": "code",
   "execution_count": 9,
   "metadata": {},
   "outputs": [
    {
     "name": "stdout",
     "output_type": "stream",
     "text": [
      "(89560, 15)\n"
     ]
    }
   ],
   "source": [
    "taxi_shape = taxi.shape\n",
    "print(taxi_shape)"
   ]
  },
  {
   "cell_type": "code",
   "execution_count": 11,
   "metadata": {},
   "outputs": [
    {
     "name": "stdout",
     "output_type": "stream",
     "text": [
      "4.0\n"
     ]
    }
   ],
   "source": [
    "row_0 = taxi[0]\n",
    "rows_391_to_500 = taxi[391:501]\n",
    "row_21_column_5 = taxi[21,5]\n",
    "print(row_21_column_5)"
   ]
  },
  {
   "cell_type": "code",
   "execution_count": 12,
   "metadata": {},
   "outputs": [
    {
     "name": "stdout",
     "output_type": "stream",
     "text": [
      "[   2.      4.     20.91 1744.  ]\n"
     ]
    }
   ],
   "source": [
    "cols = [1,4,7]\n",
    "columns_1_4_7 = taxi[:,cols]\n",
    "#print(columns_1_4_7)\n",
    "row_99_columns_5_to_8 = taxi[99,5:9]\n",
    "print(row_99_columns_5_to_8)\n",
    "rows_100_to_200_column_14 = taxi[100:201,14]"
   ]
  },
  {
   "cell_type": "code",
   "execution_count": 15,
   "metadata": {},
   "outputs": [
    {
     "name": "stdout",
     "output_type": "stream",
     "text": [
      "[52.  45.  36.5 ... 52.  34.5 48. ]\n",
      "[0.8 1.3 1.3 ... 0.8 1.3 1.3]\n",
      "[52.8 46.3 37.8 ... 52.8 35.8 49.3]\n"
     ]
    }
   ],
   "source": [
    "fare_amount = taxi[:,9]\n",
    "fees_amount = taxi[:,10]\n",
    "fare_and_fees = fare_amount + fees_amount\n",
    "print(fare_amount)\n",
    "print(fees_amount)\n",
    "print(fare_and_fees)"
   ]
  },
  {
   "cell_type": "code",
   "execution_count": 16,
   "metadata": {},
   "outputs": [
    {
     "name": "stdout",
     "output_type": "stream",
     "text": [
      "[0.56583333 0.42222222 0.40611111 ... 0.78388889 0.30083333 0.47527778]\n",
      "[37.11340206 38.58157895 31.27222982 ... 22.29907867 42.41551247\n",
      " 36.90473407]\n"
     ]
    }
   ],
   "source": [
    "trip_distance_miles = taxi[:,7]\n",
    "trip_length_seconds = taxi[:,8]\n",
    "\n",
    "trip_length_hours = trip_length_seconds / 3600 # 3600 seconds is one hour\n",
    "trip_mph = trip_distance_miles/trip_length_hours\n",
    "\n",
    "print(trip_length_hours)\n",
    "print(trip_mph)"
   ]
  },
  {
   "cell_type": "code",
   "execution_count": 17,
   "metadata": {},
   "outputs": [
    {
     "name": "stdout",
     "output_type": "stream",
     "text": [
      "82800.0\n",
      "32.24258580925573\n"
     ]
    }
   ],
   "source": [
    "mph_min = trip_mph.min()\n",
    "mph_max = trip_mph.max()\n",
    "mph_mean = trip_mph.mean()\n",
    "print(mph_max)\n",
    "print(mph_mean)"
   ]
  },
  {
   "cell_type": "code",
   "execution_count": 18,
   "metadata": {},
   "outputs": [
    {
     "name": "stdout",
     "output_type": "stream",
     "text": [
      "[69.99 54.3  37.8  32.76 18.8 ]\n",
      "[69.99 54.3  37.8  32.76 18.8 ]\n"
     ]
    }
   ],
   "source": [
    "# we'll compare against the first 5 rows only\n",
    "taxi_first_five = taxi[:5]\n",
    "# select these columns: fare_amount, fees_amount, tolls_amount, tip_amount\n",
    "fare_components = taxi_first_five[:,9:13]\n",
    "# sum the component columns\n",
    "fare_sums = fare_components.sum(axis=1)\n",
    "# select the total_amount column\n",
    "fare_totals = taxi_first_five[:,13]\n",
    "# compare the summed columns to the fare_totals\n",
    "print(fare_sums)\n",
    "print(fare_totals)"
   ]
  },
  {
   "cell_type": "code",
   "execution_count": 2,
   "metadata": {},
   "outputs": [
    {
     "name": "stdout",
     "output_type": "stream",
     "text": [
      "(89561, 15)\n"
     ]
    }
   ],
   "source": [
    "import numpy as np\n",
    "taxi = np.genfromtxt('nyc_taxis.csv', delimiter=',')\n",
    "taxi_shape = np.shape(taxi)\n",
    "print(taxi_shape)"
   ]
  },
  {
   "cell_type": "code",
   "execution_count": 3,
   "metadata": {},
   "outputs": [
    {
     "name": "stdout",
     "output_type": "stream",
     "text": [
      "[ True  True False False False]\n",
      "[ True  True False  True]\n",
      "[False  True False  True]\n"
     ]
    }
   ],
   "source": [
    "a = np.array([1, 2, 3, 4, 5])\n",
    "b = np.array([\"blue\", \"blue\", \"red\", \"blue\"])\n",
    "c = np.array([80.0, 103.4, 96.9, 200.3])\n",
    "a_bool = a < 3\n",
    "print(a_bool)\n",
    "b_bool = b == 'blue'\n",
    "print(b_bool)\n",
    "c_bool = c > 100\n",
    "print(c_bool)"
   ]
  },
  {
   "cell_type": "code",
   "execution_count": 4,
   "metadata": {},
   "outputs": [
    {
     "name": "stdout",
     "output_type": "stream",
     "text": [
      "[False False False ... False False False]\n",
      "[2. 2. 2. ... 2. 2. 2.]\n",
      "13333\n"
     ]
    }
   ],
   "source": [
    "pickup_month = taxi[:,1]\n",
    "\n",
    "january_bool = pickup_month == 1\n",
    "january = pickup_month[january_bool]\n",
    "january_rides = january.shape[0]\n",
    "\n",
    "february_bool = pickup_month == 2\n",
    "february = pickup_month[february_bool]\n",
    "february_rides = february.shape[0]\n",
    "\n",
    "print(february_bool)\n",
    "print(february)\n",
    "print(february_rides)"
   ]
  },
  {
   "cell_type": "code",
   "execution_count": 22,
   "metadata": {},
   "outputs": [
    {
     "name": "stdout",
     "output_type": "stream",
     "text": [
      "[[4.0000e+00 2.0000e+00 2.1450e+01 2.0040e+03 5.2000e+01 8.0000e-01\n",
      "  0.0000e+00 5.2800e+01 1.0560e+02]\n",
      " [3.0000e+00 4.0000e+00 9.2000e+00 1.0410e+03 2.7000e+01 1.3000e+00\n",
      "  5.5400e+00 6.0000e+01 9.3840e+01]\n",
      " [2.0000e+00 0.0000e+00 1.9800e+01 1.6710e+03 5.2500e+01 1.3000e+00\n",
      "  5.5400e+00 5.9340e+01 1.1868e+02]\n",
      " [4.0000e+00 2.0000e+00 1.8420e+01 2.9680e+03 5.2000e+01 8.0000e-01\n",
      "  5.5400e+00 8.0000e+01 1.3834e+02]\n",
      " [3.0000e+00 6.0000e+00 4.9000e-01 1.5800e+02 3.5000e+00 1.8000e+00\n",
      "  0.0000e+00 7.0000e+01 7.5300e+01]\n",
      " [2.0000e+00 2.0000e+00 2.7000e+00 3.8100e+02 9.5000e+00 8.0000e-01\n",
      "  0.0000e+00 6.0000e+01 7.0300e+01]\n",
      " [3.0000e+00 4.0000e+00 9.5400e+00 1.2100e+03 2.7500e+01 8.0000e-01\n",
      "  5.5400e+00 5.5000e+01 8.8840e+01]\n",
      " [2.0000e+00 4.0000e+00 1.7600e+01 3.2510e+03 5.2000e+01 8.0000e-01\n",
      "  5.5400e+00 6.5000e+01 1.2334e+02]\n",
      " [4.0000e+00 2.0000e+00 3.8200e+01 9.2520e+03 5.2000e+01 8.0000e-01\n",
      "  5.5400e+00 8.0000e+01 1.3834e+02]\n",
      " [4.0000e+00 2.0000e+00 1.8000e+01 2.2760e+03 1.0000e-02 3.0000e-01\n",
      "  5.5400e+00 6.2000e+01 6.7850e+01]\n",
      " [2.0000e+00 0.0000e+00 2.6210e+01 1.7029e+04 1.8050e+02 8.0000e-01\n",
      "  5.5400e+00 1.0000e+02 2.8684e+02]\n",
      " [2.0000e+00 2.0000e+00 0.0000e+00 2.4000e+01 2.5000e+00 8.0000e-01\n",
      "  0.0000e+00 5.8000e+01 6.1300e+01]\n",
      " [2.0000e+00 1.0000e+00 1.8210e+01 3.1600e+03 5.5500e+01 8.0000e-01\n",
      "  0.0000e+00 6.2000e+01 1.1830e+02]\n",
      " [2.0000e+00 2.0000e+00 0.0000e+00 3.0000e+00 2.5000e+00 1.8000e+00\n",
      "  0.0000e+00 7.5700e+01 8.0000e+01]\n",
      " [2.0000e+00 4.0000e+00 1.8680e+01 5.2470e+03 5.2000e+01 8.0000e-01\n",
      "  5.5400e+00 6.0000e+01 1.1834e+02]\n",
      " [4.0000e+00 2.0000e+00 1.8170e+01 5.8600e+03 5.2000e+01 8.0000e-01\n",
      "  5.5400e+00 7.0000e+01 1.2834e+02]]\n"
     ]
    },
    {
     "name": "stderr",
     "output_type": "stream",
     "text": [
      "C:\\Users\\msgeo\\Anaconda3\\lib\\site-packages\\ipykernel_launcher.py:2: RuntimeWarning: invalid value encountered in greater\n",
      "  \n"
     ]
    }
   ],
   "source": [
    "tip_amount = taxi[:,12]\n",
    "tip_bool = tip_amount > 50\n",
    "top_tips = taxi[tip_bool, 5:14]\n",
    "print(top_tips)"
   ]
  },
  {
   "cell_type": "code",
   "execution_count": 5,
   "metadata": {},
   "outputs": [],
   "source": [
    "# this creates a copy of our taxi ndarray\n",
    "taxi_modified = taxi.copy()\n",
    "taxi_modified[28214,5] = 1\n",
    "taxi_modified[:,0] = 16\n",
    "taxi_modified[1800:1802,7] = taxi_modified[:,7].mean()"
   ]
  },
  {
   "cell_type": "code",
   "execution_count": 13,
   "metadata": {},
   "outputs": [
    {
     "name": "stdout",
     "output_type": "stream",
     "text": [
      "[  nan 69.99 54.3  ... 63.34 44.75 54.84]\n",
      "[  nan 69.99 54.3  ... 63.34 44.75 54.84]\n"
     ]
    },
    {
     "name": "stderr",
     "output_type": "stream",
     "text": [
      "C:\\Users\\msgeo\\Anaconda3\\lib\\site-packages\\ipykernel_launcher.py:5: RuntimeWarning: invalid value encountered in less\n",
      "  \"\"\"\n"
     ]
    }
   ],
   "source": [
    "# this creates a copy of our taxi ndarray\n",
    "taxi_copy = taxi.copy()\n",
    "total_amount = taxi_copy[:,13]\n",
    "print(total_amount)\n",
    "amount_bool = total_amount < 0\n",
    "total_amount[amount_bool] = 0\n",
    "print(total_amount)"
   ]
  },
  {
   "cell_type": "code",
   "execution_count": 14,
   "metadata": {},
   "outputs": [
    {
     "name": "stdout",
     "output_type": "stream",
     "text": [
      "[[0.]\n",
      " [0.]\n",
      " [0.]\n",
      " ...\n",
      " [0.]\n",
      " [0.]\n",
      " [0.]]\n",
      "[nan  2.  2. ...  2.  2.  2.]\n"
     ]
    }
   ],
   "source": [
    " # create a new column filled with `0`.\n",
    "zeros = np.zeros([taxi.shape[0], 1])\n",
    "taxi_modified = np.concatenate([taxi, zeros], axis=1)\n",
    "print(zeros)\n",
    "\n",
    "# array[array[:, column_for_comparison] == value_for_comparison, column_for_assignment] = new_value\n",
    "taxi_modified[taxi_modified[:, 5] == 2, 15] = 1\n",
    "taxi_modified[taxi_modified[:, 5] == 3, 15] = 1\n",
    "taxi_modified[taxi_modified[:, 5] == 5, 15] = 1\n",
    "print(taxi_modified[:,5])"
   ]
  },
  {
   "cell_type": "code",
   "execution_count": 17,
   "metadata": {},
   "outputs": [],
   "source": [
    "#create new ndarray where six column index equals 2\n",
    "jfk = taxi[taxi[:, 6] == 2]\n",
    "jfk_count = jfk.shape[0]\n",
    "\n",
    "laguardia = taxi[taxi[:, 6] == 3]\n",
    "laguardia_count = laguardia.shape[0]\n",
    "\n",
    "newark = taxi[taxi[:, 6] == 5]\n",
    "newark_count = newark.shape[0]"
   ]
  },
  {
   "cell_type": "code",
   "execution_count": 16,
   "metadata": {},
   "outputs": [
    {
     "name": "stderr",
     "output_type": "stream",
     "text": [
      "C:\\Users\\msgeo\\Anaconda3\\lib\\site-packages\\ipykernel_launcher.py:3: RuntimeWarning: invalid value encountered in less\n",
      "  This is separate from the ipykernel package so we can avoid doing imports until\n"
     ]
    }
   ],
   "source": [
    "#Create a new ndarray, cleaned_taxi, containing only rows for which the values of trip_mph are less than 100.\n",
    "trip_mph = taxi[:,7] / (taxi[:,8] / 3600)\n",
    "cleaned_taxi = taxi[trip_mph < 100]\n",
    "mean_distance = cleaned_taxi[:,7].mean()\n",
    "mean_length = cleaned_taxi[:,8].mean()\n",
    "mean_total_amount = cleaned_taxi[:,13].mean()"
   ]
  },
  {
   "cell_type": "code",
   "execution_count": null,
   "metadata": {},
   "outputs": [],
   "source": []
  }
 ],
 "metadata": {
  "kernelspec": {
   "display_name": "Python 3",
   "language": "python",
   "name": "python3"
  },
  "language_info": {
   "codemirror_mode": {
    "name": "ipython",
    "version": 3
   },
   "file_extension": ".py",
   "mimetype": "text/x-python",
   "name": "python",
   "nbconvert_exporter": "python",
   "pygments_lexer": "ipython3",
   "version": "3.7.4"
  }
 },
 "nbformat": 4,
 "nbformat_minor": 2
}
