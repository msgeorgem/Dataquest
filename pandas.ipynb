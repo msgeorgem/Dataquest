{
 "cells": [
  {
   "cell_type": "code",
   "execution_count": 3,
   "metadata": {},
   "outputs": [
    {
     "name": "stdout",
     "output_type": "stream",
     "text": [
      "<class 'pandas.core.frame.DataFrame'>\n",
      "Index: 500 entries, Walmart to AutoNation\n",
      "Data columns (total 16 columns):\n",
      "rank                        500 non-null int64\n",
      "revenues                    500 non-null int64\n",
      "revenue_change              498 non-null float64\n",
      "profits                     499 non-null float64\n",
      "assets                      500 non-null int64\n",
      "profit_change               436 non-null float64\n",
      "ceo                         500 non-null object\n",
      "industry                    500 non-null object\n",
      "sector                      500 non-null object\n",
      "previous_rank               500 non-null int64\n",
      "country                     500 non-null object\n",
      "hq_location                 500 non-null object\n",
      "website                     500 non-null object\n",
      "years_on_global_500_list    500 non-null int64\n",
      "employees                   500 non-null int64\n",
      "total_stockholder_equity    500 non-null int64\n",
      "dtypes: float64(3), int64(7), object(6)\n",
      "memory usage: 66.4+ KB\n",
      "None\n"
     ]
    }
   ],
   "source": [
    "import pandas as pd\n",
    "f500 = pd.read_csv('f500.csv',index_col=0)\n",
    "f500.index.name = None\n",
    "f500_type = type(f500)\n",
    "f500_shape = f500.shape\n",
    "#print(f500)\n",
    "f500_head = f500.head(6)\n",
    "f500_tail = f500.tail(8)\n",
    "#print(f500_head)\n",
    "\n",
    "print(f500.info())"
   ]
  },
  {
   "cell_type": "code",
   "execution_count": 4,
   "metadata": {},
   "outputs": [
    {
     "name": "stdout",
     "output_type": "stream",
     "text": [
      "Walmart                                     General Merchandisers\n",
      "State Grid                                              Utilities\n",
      "Sinopec Group                                  Petroleum Refining\n",
      "China National Petroleum                       Petroleum Refining\n",
      "Toyota Motor                             Motor Vehicles and Parts\n",
      "                                               ...               \n",
      "Teva Pharmaceutical Industries                    Pharmaceuticals\n",
      "New China Life Insurance          Insurance: Life, Health (stock)\n",
      "Wm. Morrison Supermarkets                    Food and Drug Stores\n",
      "TUI                                               Travel Services\n",
      "AutoNation                                    Specialty Retailers\n",
      "Name: industry, Length: 500, dtype: object\n",
      "<class 'pandas.core.series.Series'>\n"
     ]
    }
   ],
   "source": [
    "industries = f500[\"industry\"]\n",
    "print(industries)\n",
    "industries_type = type(industries)\n",
    "print(industries_type)"
   ]
  },
  {
   "cell_type": "code",
   "execution_count": 5,
   "metadata": {},
   "outputs": [
    {
     "name": "stdout",
     "output_type": "stream",
     "text": [
      "                                                ceo  \\\n",
      "Walmart                         C. Douglas McMillon   \n",
      "State Grid                                  Kou Wei   \n",
      "Sinopec Group                             Wang Yupu   \n",
      "China National Petroleum              Zhang Jianhua   \n",
      "Toyota Motor                            Akio Toyoda   \n",
      "...                                             ...   \n",
      "Teva Pharmaceutical Industries    Yitzhak Peterburg   \n",
      "New China Life Insurance                   Wan Feng   \n",
      "Wm. Morrison Supermarkets            David T. Potts   \n",
      "TUI                               Friedrich Joussen   \n",
      "AutoNation                       Michael J. Jackson   \n",
      "\n",
      "                                                       industry  \\\n",
      "Walmart                                   General Merchandisers   \n",
      "State Grid                                            Utilities   \n",
      "Sinopec Group                                Petroleum Refining   \n",
      "China National Petroleum                     Petroleum Refining   \n",
      "Toyota Motor                           Motor Vehicles and Parts   \n",
      "...                                                         ...   \n",
      "Teva Pharmaceutical Industries                  Pharmaceuticals   \n",
      "New China Life Insurance        Insurance: Life, Health (stock)   \n",
      "Wm. Morrison Supermarkets                  Food and Drug Stores   \n",
      "TUI                                             Travel Services   \n",
      "AutoNation                                  Specialty Retailers   \n",
      "\n",
      "                                                sector  \n",
      "Walmart                                      Retailing  \n",
      "State Grid                                      Energy  \n",
      "Sinopec Group                                   Energy  \n",
      "China National Petroleum                        Energy  \n",
      "Toyota Motor                    Motor Vehicles & Parts  \n",
      "...                                                ...  \n",
      "Teva Pharmaceutical Industries             Health Care  \n",
      "New China Life Insurance                    Financials  \n",
      "Wm. Morrison Supermarkets           Food & Drug Stores  \n",
      "TUI                                  Business Services  \n",
      "AutoNation                                   Retailing  \n",
      "\n",
      "[500 rows x 3 columns]\n"
     ]
    }
   ],
   "source": [
    "countries = f500[\"country\"]\n",
    "revenues_years = f500[['revenues','years_on_global_500_list']]\n",
    "#print(revenues_years)\n",
    "ceo_to_sector = f500.loc[:,\"ceo\":\"sector\"]\n",
    "print(ceo_to_sector)"
   ]
  },
  {
   "cell_type": "code",
   "execution_count": 6,
   "metadata": {},
   "outputs": [
    {
     "name": "stdout",
     "output_type": "stream",
     "text": [
      "                                 rank  revenues  revenue_change  profits  \\\n",
      "Tata Motors                       247     40329            -4.2   1111.6   \n",
      "Aluminum Corp. of China           248     40278             6.0   -282.5   \n",
      "Mitsui                            249     40275             1.6   2825.3   \n",
      "Manulife Financial                250     40238            49.4   2209.7   \n",
      "China Minsheng Banking            251     40234            -5.2   7201.6   \n",
      "China Pacific Insurance (Group)   252     40193             2.2   1814.9   \n",
      "American Airlines Group           253     40180            -2.0   2676.0   \n",
      "Nationwide                        254     40074            -0.4    334.3   \n",
      "\n",
      "                                 assets  profit_change                   ceo  \\\n",
      "Tata Motors                       42162          -34.0      Guenter Butschek   \n",
      "Aluminum Corp. of China           75089            NaN              Yu Dehui   \n",
      "Mitsui                           103231            NaN       Tatsuo Yasunaga   \n",
      "Manulife Financial               537461           28.9     Donald A. Guloien   \n",
      "China Minsheng Banking           848389           -1.8         Zheng Wanchun   \n",
      "China Pacific Insurance (Group)  146873          -35.7          Huo Lianhong   \n",
      "American Airlines Group           51274          -64.8     W. Douglas Parker   \n",
      "Nationwide                       197790          -42.4  Stephen S. Rasmussen   \n",
      "\n",
      "                                                                  industry  \\\n",
      "Tata Motors                                       Motor Vehicles and Parts   \n",
      "Aluminum Corp. of China                                             Metals   \n",
      "Mitsui                                                             Trading   \n",
      "Manulife Financial                         Insurance: Life, Health (stock)   \n",
      "China Minsheng Banking                       Banks: Commercial and Savings   \n",
      "China Pacific Insurance (Group)            Insurance: Life, Health (stock)   \n",
      "American Airlines Group                                           Airlines   \n",
      "Nationwide                       Insurance: Property and Casualty (Mutual)   \n",
      "\n",
      "                                                 sector  previous_rank country  \n",
      "Tata Motors                      Motor Vehicles & Parts            226   India  \n",
      "Aluminum Corp. of China                       Materials            262   China  \n",
      "Mitsui                                      Wholesalers            245   Japan  \n",
      "Manulife Financial                           Financials            394  Canada  \n",
      "China Minsheng Banking                       Financials            221   China  \n",
      "China Pacific Insurance (Group)              Financials            251   China  \n",
      "American Airlines Group                  Transportation            236     USA  \n",
      "Nationwide                                   Financials            241     USA  \n"
     ]
    }
   ],
   "source": [
    "toyota = f500.loc[\"Toyota Motor\"]\n",
    "#print(toyota)\n",
    "drink_companies = f500.loc[[\"Anheuser-Busch InBev\", \"Coca-Cola\", \"Heineken Holding\"]]\n",
    "#print(drink_companies)\n",
    "middle_companies =  f500.loc[\"Tata Motors\": \"Nationwide\"]\n",
    "middle_companies = middle_companies.loc[:,\"rank\": \"country\"]\n",
    "print(middle_companies)"
   ]
  },
  {
   "cell_type": "code",
   "execution_count": 8,
   "metadata": {},
   "outputs": [
    {
     "name": "stdout",
     "output_type": "stream",
     "text": [
      "USA             132\n",
      "China           109\n",
      "Japan            51\n",
      "France           29\n",
      "Germany          29\n",
      "Britain          24\n",
      "South Korea      15\n",
      "Netherlands      14\n",
      "Switzerland      14\n",
      "Canada           11\n",
      "Spain             9\n",
      "Brazil            7\n",
      "India             7\n",
      "Australia         7\n",
      "Italy             7\n",
      "Taiwan            6\n",
      "Ireland           4\n",
      "Russia            4\n",
      "Sweden            3\n",
      "Singapore         3\n",
      "Mexico            2\n",
      "Finland           1\n",
      "Luxembourg        1\n",
      "Belgium           1\n",
      "Israel            1\n",
      "Malaysia          1\n",
      "Venezuela         1\n",
      "Norway            1\n",
      "Thailand          1\n",
      "Denmark           1\n",
      "Turkey            1\n",
      "Indonesia         1\n",
      "U.A.E             1\n",
      "Saudi Arabia      1\n",
      "Name: country, dtype: int64\n"
     ]
    }
   ],
   "source": [
    "countries = f500[\"country\"]\n",
    "country_counts = countries.value_counts()\n",
    "print(country_counts)"
   ]
  },
  {
   "cell_type": "code",
   "execution_count": 11,
   "metadata": {},
   "outputs": [
    {
     "name": "stdout",
     "output_type": "stream",
     "text": [
      "USA       132\n",
      "Canada     11\n",
      "Mexico      2\n",
      "Name: country, dtype: int64\n"
     ]
    }
   ],
   "source": [
    "countries = f500['country']\n",
    "countries_counts = countries.value_counts()\n",
    "india = countries_counts.loc[\"India\"]\n",
    "north_america = countries_counts.loc[[\"USA\", \"Canada\", \"Mexico\"]]\n",
    "print(north_america)"
   ]
  },
  {
   "cell_type": "code",
   "execution_count": 12,
   "metadata": {},
   "outputs": [
    {
     "name": "stdout",
     "output_type": "stream",
     "text": [
      "                                       rank              sector  country\n",
      "National Grid                           491              Energy  Britain\n",
      "Dollar General                          492           Retailing      USA\n",
      "Telecom Italia                          493  Telecommunications    Italy\n",
      "Xiamen ITG Holding Group                494         Wholesalers    China\n",
      "Xinjiang Guanghui Industry Investment   495         Wholesalers    China\n",
      "Teva Pharmaceutical Industries          496         Health Care   Israel\n",
      "New China Life Insurance                497          Financials    China\n",
      "Wm. Morrison Supermarkets               498  Food & Drug Stores  Britain\n",
      "TUI                                     499   Business Services  Germany\n",
      "AutoNation                              500           Retailing      USA\n"
     ]
    }
   ],
   "source": [
    "big_movers = f500.loc[[\"Aviva\", \"HP\", \"JD.com\", \"BHP Billiton\"],[\"rank\",\"previous_rank\"]]\n",
    "#print(big_movers)\n",
    "bottom_companies = f500.loc[\"National Grid\":\"AutoNation\",[\"rank\", \"sector\", \"country\"]]\n",
    "print(bottom_companies)"
   ]
  },
  {
   "cell_type": "code",
   "execution_count": null,
   "metadata": {},
   "outputs": [],
   "source": []
  }
 ],
 "metadata": {
  "kernelspec": {
   "display_name": "Python 3",
   "language": "python",
   "name": "python3"
  },
  "language_info": {
   "codemirror_mode": {
    "name": "ipython",
    "version": 3
   },
   "file_extension": ".py",
   "mimetype": "text/x-python",
   "name": "python",
   "nbconvert_exporter": "python",
   "pygments_lexer": "ipython3",
   "version": "3.7.4"
  }
 },
 "nbformat": 4,
 "nbformat_minor": 2
}
